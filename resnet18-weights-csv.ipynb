{
 "cells": [
  {
   "cell_type": "code",
   "execution_count": 1,
   "id": "0f1db11d",
   "metadata": {
    "execution": {
     "iopub.execute_input": "2024-04-27T18:24:04.180902Z",
     "iopub.status.busy": "2024-04-27T18:24:04.180109Z",
     "iopub.status.idle": "2024-04-27T18:24:11.557044Z",
     "shell.execute_reply": "2024-04-27T18:24:11.556221Z"
    },
    "papermill": {
     "duration": 7.385756,
     "end_time": "2024-04-27T18:24:11.559540",
     "exception": false,
     "start_time": "2024-04-27T18:24:04.173784",
     "status": "completed"
    },
    "tags": []
   },
   "outputs": [],
   "source": [
    "import torch\n",
    "import torch.nn as nn\n",
    "import torchvision\n",
    "from torchvision import datasets, transforms, models\n",
    "# import torchvision.models as models\n",
    "import torch.nn.functional as F\n",
    "import torch.optim as optim\n",
    "from tqdm import tqdm\n",
    "import numpy as np\n",
    "import csv"
   ]
  },
  {
   "cell_type": "code",
   "execution_count": 2,
   "id": "bd816fc8",
   "metadata": {
    "execution": {
     "iopub.execute_input": "2024-04-27T18:24:11.569855Z",
     "iopub.status.busy": "2024-04-27T18:24:11.569051Z",
     "iopub.status.idle": "2024-04-27T18:24:11.644864Z",
     "shell.execute_reply": "2024-04-27T18:24:11.643819Z"
    },
    "papermill": {
     "duration": 0.083224,
     "end_time": "2024-04-27T18:24:11.647240",
     "exception": false,
     "start_time": "2024-04-27T18:24:11.564016",
     "status": "completed"
    },
    "tags": []
   },
   "outputs": [],
   "source": [
    "device = torch.device('cuda' if torch.cuda.is_available() else 'cpu')"
   ]
  },
  {
   "cell_type": "code",
   "execution_count": 3,
   "id": "de6c641e",
   "metadata": {
    "execution": {
     "iopub.execute_input": "2024-04-27T18:24:11.656942Z",
     "iopub.status.busy": "2024-04-27T18:24:11.656612Z",
     "iopub.status.idle": "2024-04-27T18:24:11.661756Z",
     "shell.execute_reply": "2024-04-27T18:24:11.660911Z"
    },
    "papermill": {
     "duration": 0.012157,
     "end_time": "2024-04-27T18:24:11.663637",
     "exception": false,
     "start_time": "2024-04-27T18:24:11.651480",
     "status": "completed"
    },
    "tags": []
   },
   "outputs": [],
   "source": [
    "transform = transforms.Compose([\n",
    "    transforms.Resize((224, 224)),  \n",
    "    transforms.ToTensor(),  \n",
    "    transforms.Normalize(mean=[0.5, 0.5, 0.5], std=[0.5, 0.5, 0.5])  \n",
    "])"
   ]
  },
  {
   "cell_type": "code",
   "execution_count": 4,
   "id": "a46e33e8",
   "metadata": {
    "execution": {
     "iopub.execute_input": "2024-04-27T18:24:11.673386Z",
     "iopub.status.busy": "2024-04-27T18:24:11.673109Z",
     "iopub.status.idle": "2024-04-27T18:24:12.158498Z",
     "shell.execute_reply": "2024-04-27T18:24:12.157460Z"
    },
    "papermill": {
     "duration": 0.492963,
     "end_time": "2024-04-27T18:24:12.161011",
     "exception": false,
     "start_time": "2024-04-27T18:24:11.668048",
     "status": "completed"
    },
    "tags": []
   },
   "outputs": [],
   "source": [
    "\n",
    "model = models.resnet18(weights= None).to(device)"
   ]
  },
  {
   "cell_type": "code",
   "execution_count": 5,
   "id": "1fb76a33",
   "metadata": {
    "execution": {
     "iopub.execute_input": "2024-04-27T18:24:12.171615Z",
     "iopub.status.busy": "2024-04-27T18:24:12.170816Z",
     "iopub.status.idle": "2024-04-27T18:24:12.176920Z",
     "shell.execute_reply": "2024-04-27T18:24:12.176006Z"
    },
    "papermill": {
     "duration": 0.014552,
     "end_time": "2024-04-27T18:24:12.180161",
     "exception": false,
     "start_time": "2024-04-27T18:24:12.165609",
     "status": "completed"
    },
    "tags": []
   },
   "outputs": [
    {
     "name": "stdout",
     "output_type": "stream",
     "text": [
      "ResNet(\n",
      "  (conv1): Conv2d(3, 64, kernel_size=(7, 7), stride=(2, 2), padding=(3, 3), bias=False)\n",
      "  (bn1): BatchNorm2d(64, eps=1e-05, momentum=0.1, affine=True, track_running_stats=True)\n",
      "  (relu): ReLU(inplace=True)\n",
      "  (maxpool): MaxPool2d(kernel_size=3, stride=2, padding=1, dilation=1, ceil_mode=False)\n",
      "  (layer1): Sequential(\n",
      "    (0): BasicBlock(\n",
      "      (conv1): Conv2d(64, 64, kernel_size=(3, 3), stride=(1, 1), padding=(1, 1), bias=False)\n",
      "      (bn1): BatchNorm2d(64, eps=1e-05, momentum=0.1, affine=True, track_running_stats=True)\n",
      "      (relu): ReLU(inplace=True)\n",
      "      (conv2): Conv2d(64, 64, kernel_size=(3, 3), stride=(1, 1), padding=(1, 1), bias=False)\n",
      "      (bn2): BatchNorm2d(64, eps=1e-05, momentum=0.1, affine=True, track_running_stats=True)\n",
      "    )\n",
      "    (1): BasicBlock(\n",
      "      (conv1): Conv2d(64, 64, kernel_size=(3, 3), stride=(1, 1), padding=(1, 1), bias=False)\n",
      "      (bn1): BatchNorm2d(64, eps=1e-05, momentum=0.1, affine=True, track_running_stats=True)\n",
      "      (relu): ReLU(inplace=True)\n",
      "      (conv2): Conv2d(64, 64, kernel_size=(3, 3), stride=(1, 1), padding=(1, 1), bias=False)\n",
      "      (bn2): BatchNorm2d(64, eps=1e-05, momentum=0.1, affine=True, track_running_stats=True)\n",
      "    )\n",
      "  )\n",
      "  (layer2): Sequential(\n",
      "    (0): BasicBlock(\n",
      "      (conv1): Conv2d(64, 128, kernel_size=(3, 3), stride=(2, 2), padding=(1, 1), bias=False)\n",
      "      (bn1): BatchNorm2d(128, eps=1e-05, momentum=0.1, affine=True, track_running_stats=True)\n",
      "      (relu): ReLU(inplace=True)\n",
      "      (conv2): Conv2d(128, 128, kernel_size=(3, 3), stride=(1, 1), padding=(1, 1), bias=False)\n",
      "      (bn2): BatchNorm2d(128, eps=1e-05, momentum=0.1, affine=True, track_running_stats=True)\n",
      "      (downsample): Sequential(\n",
      "        (0): Conv2d(64, 128, kernel_size=(1, 1), stride=(2, 2), bias=False)\n",
      "        (1): BatchNorm2d(128, eps=1e-05, momentum=0.1, affine=True, track_running_stats=True)\n",
      "      )\n",
      "    )\n",
      "    (1): BasicBlock(\n",
      "      (conv1): Conv2d(128, 128, kernel_size=(3, 3), stride=(1, 1), padding=(1, 1), bias=False)\n",
      "      (bn1): BatchNorm2d(128, eps=1e-05, momentum=0.1, affine=True, track_running_stats=True)\n",
      "      (relu): ReLU(inplace=True)\n",
      "      (conv2): Conv2d(128, 128, kernel_size=(3, 3), stride=(1, 1), padding=(1, 1), bias=False)\n",
      "      (bn2): BatchNorm2d(128, eps=1e-05, momentum=0.1, affine=True, track_running_stats=True)\n",
      "    )\n",
      "  )\n",
      "  (layer3): Sequential(\n",
      "    (0): BasicBlock(\n",
      "      (conv1): Conv2d(128, 256, kernel_size=(3, 3), stride=(2, 2), padding=(1, 1), bias=False)\n",
      "      (bn1): BatchNorm2d(256, eps=1e-05, momentum=0.1, affine=True, track_running_stats=True)\n",
      "      (relu): ReLU(inplace=True)\n",
      "      (conv2): Conv2d(256, 256, kernel_size=(3, 3), stride=(1, 1), padding=(1, 1), bias=False)\n",
      "      (bn2): BatchNorm2d(256, eps=1e-05, momentum=0.1, affine=True, track_running_stats=True)\n",
      "      (downsample): Sequential(\n",
      "        (0): Conv2d(128, 256, kernel_size=(1, 1), stride=(2, 2), bias=False)\n",
      "        (1): BatchNorm2d(256, eps=1e-05, momentum=0.1, affine=True, track_running_stats=True)\n",
      "      )\n",
      "    )\n",
      "    (1): BasicBlock(\n",
      "      (conv1): Conv2d(256, 256, kernel_size=(3, 3), stride=(1, 1), padding=(1, 1), bias=False)\n",
      "      (bn1): BatchNorm2d(256, eps=1e-05, momentum=0.1, affine=True, track_running_stats=True)\n",
      "      (relu): ReLU(inplace=True)\n",
      "      (conv2): Conv2d(256, 256, kernel_size=(3, 3), stride=(1, 1), padding=(1, 1), bias=False)\n",
      "      (bn2): BatchNorm2d(256, eps=1e-05, momentum=0.1, affine=True, track_running_stats=True)\n",
      "    )\n",
      "  )\n",
      "  (layer4): Sequential(\n",
      "    (0): BasicBlock(\n",
      "      (conv1): Conv2d(256, 512, kernel_size=(3, 3), stride=(2, 2), padding=(1, 1), bias=False)\n",
      "      (bn1): BatchNorm2d(512, eps=1e-05, momentum=0.1, affine=True, track_running_stats=True)\n",
      "      (relu): ReLU(inplace=True)\n",
      "      (conv2): Conv2d(512, 512, kernel_size=(3, 3), stride=(1, 1), padding=(1, 1), bias=False)\n",
      "      (bn2): BatchNorm2d(512, eps=1e-05, momentum=0.1, affine=True, track_running_stats=True)\n",
      "      (downsample): Sequential(\n",
      "        (0): Conv2d(256, 512, kernel_size=(1, 1), stride=(2, 2), bias=False)\n",
      "        (1): BatchNorm2d(512, eps=1e-05, momentum=0.1, affine=True, track_running_stats=True)\n",
      "      )\n",
      "    )\n",
      "    (1): BasicBlock(\n",
      "      (conv1): Conv2d(512, 512, kernel_size=(3, 3), stride=(1, 1), padding=(1, 1), bias=False)\n",
      "      (bn1): BatchNorm2d(512, eps=1e-05, momentum=0.1, affine=True, track_running_stats=True)\n",
      "      (relu): ReLU(inplace=True)\n",
      "      (conv2): Conv2d(512, 512, kernel_size=(3, 3), stride=(1, 1), padding=(1, 1), bias=False)\n",
      "      (bn2): BatchNorm2d(512, eps=1e-05, momentum=0.1, affine=True, track_running_stats=True)\n",
      "    )\n",
      "  )\n",
      "  (avgpool): AdaptiveAvgPool2d(output_size=(1, 1))\n",
      "  (fc): Linear(in_features=512, out_features=1000, bias=True)\n",
      ")\n"
     ]
    }
   ],
   "source": [
    "print(model)"
   ]
  },
  {
   "cell_type": "code",
   "execution_count": 6,
   "id": "6ecfce33",
   "metadata": {
    "execution": {
     "iopub.execute_input": "2024-04-27T18:24:12.189968Z",
     "iopub.status.busy": "2024-04-27T18:24:12.189649Z",
     "iopub.status.idle": "2024-04-27T18:24:12.194180Z",
     "shell.execute_reply": "2024-04-27T18:24:12.193312Z"
    },
    "papermill": {
     "duration": 0.011558,
     "end_time": "2024-04-27T18:24:12.196047",
     "exception": false,
     "start_time": "2024-04-27T18:24:12.184489",
     "status": "completed"
    },
    "tags": []
   },
   "outputs": [],
   "source": [
    "model.fc = nn.Linear(512,50)"
   ]
  },
  {
   "cell_type": "code",
   "execution_count": 7,
   "id": "9c842986",
   "metadata": {
    "execution": {
     "iopub.execute_input": "2024-04-27T18:24:12.205512Z",
     "iopub.status.busy": "2024-04-27T18:24:12.205252Z",
     "iopub.status.idle": "2024-04-27T18:24:13.039550Z",
     "shell.execute_reply": "2024-04-27T18:24:13.038617Z"
    },
    "papermill": {
     "duration": 0.841766,
     "end_time": "2024-04-27T18:24:13.041963",
     "exception": false,
     "start_time": "2024-04-27T18:24:12.200197",
     "status": "completed"
    },
    "tags": []
   },
   "outputs": [
    {
     "data": {
      "text/plain": [
       "==========================================================================================\n",
       "Layer (type:depth-idx)                   Output Shape              Param #\n",
       "==========================================================================================\n",
       "ResNet                                   [32, 50]                  --\n",
       "├─Conv2d: 1-1                            [32, 64, 112, 112]        9,408\n",
       "├─BatchNorm2d: 1-2                       [32, 64, 112, 112]        128\n",
       "├─ReLU: 1-3                              [32, 64, 112, 112]        --\n",
       "├─MaxPool2d: 1-4                         [32, 64, 56, 56]          --\n",
       "├─Sequential: 1-5                        [32, 64, 56, 56]          --\n",
       "│    └─BasicBlock: 2-1                   [32, 64, 56, 56]          --\n",
       "│    │    └─Conv2d: 3-1                  [32, 64, 56, 56]          36,864\n",
       "│    │    └─BatchNorm2d: 3-2             [32, 64, 56, 56]          128\n",
       "│    │    └─ReLU: 3-3                    [32, 64, 56, 56]          --\n",
       "│    │    └─Conv2d: 3-4                  [32, 64, 56, 56]          36,864\n",
       "│    │    └─BatchNorm2d: 3-5             [32, 64, 56, 56]          128\n",
       "│    │    └─ReLU: 3-6                    [32, 64, 56, 56]          --\n",
       "│    └─BasicBlock: 2-2                   [32, 64, 56, 56]          --\n",
       "│    │    └─Conv2d: 3-7                  [32, 64, 56, 56]          36,864\n",
       "│    │    └─BatchNorm2d: 3-8             [32, 64, 56, 56]          128\n",
       "│    │    └─ReLU: 3-9                    [32, 64, 56, 56]          --\n",
       "│    │    └─Conv2d: 3-10                 [32, 64, 56, 56]          36,864\n",
       "│    │    └─BatchNorm2d: 3-11            [32, 64, 56, 56]          128\n",
       "│    │    └─ReLU: 3-12                   [32, 64, 56, 56]          --\n",
       "├─Sequential: 1-6                        [32, 128, 28, 28]         --\n",
       "│    └─BasicBlock: 2-3                   [32, 128, 28, 28]         --\n",
       "│    │    └─Conv2d: 3-13                 [32, 128, 28, 28]         73,728\n",
       "│    │    └─BatchNorm2d: 3-14            [32, 128, 28, 28]         256\n",
       "│    │    └─ReLU: 3-15                   [32, 128, 28, 28]         --\n",
       "│    │    └─Conv2d: 3-16                 [32, 128, 28, 28]         147,456\n",
       "│    │    └─BatchNorm2d: 3-17            [32, 128, 28, 28]         256\n",
       "│    │    └─Sequential: 3-18             [32, 128, 28, 28]         8,448\n",
       "│    │    └─ReLU: 3-19                   [32, 128, 28, 28]         --\n",
       "│    └─BasicBlock: 2-4                   [32, 128, 28, 28]         --\n",
       "│    │    └─Conv2d: 3-20                 [32, 128, 28, 28]         147,456\n",
       "│    │    └─BatchNorm2d: 3-21            [32, 128, 28, 28]         256\n",
       "│    │    └─ReLU: 3-22                   [32, 128, 28, 28]         --\n",
       "│    │    └─Conv2d: 3-23                 [32, 128, 28, 28]         147,456\n",
       "│    │    └─BatchNorm2d: 3-24            [32, 128, 28, 28]         256\n",
       "│    │    └─ReLU: 3-25                   [32, 128, 28, 28]         --\n",
       "├─Sequential: 1-7                        [32, 256, 14, 14]         --\n",
       "│    └─BasicBlock: 2-5                   [32, 256, 14, 14]         --\n",
       "│    │    └─Conv2d: 3-26                 [32, 256, 14, 14]         294,912\n",
       "│    │    └─BatchNorm2d: 3-27            [32, 256, 14, 14]         512\n",
       "│    │    └─ReLU: 3-28                   [32, 256, 14, 14]         --\n",
       "│    │    └─Conv2d: 3-29                 [32, 256, 14, 14]         589,824\n",
       "│    │    └─BatchNorm2d: 3-30            [32, 256, 14, 14]         512\n",
       "│    │    └─Sequential: 3-31             [32, 256, 14, 14]         33,280\n",
       "│    │    └─ReLU: 3-32                   [32, 256, 14, 14]         --\n",
       "│    └─BasicBlock: 2-6                   [32, 256, 14, 14]         --\n",
       "│    │    └─Conv2d: 3-33                 [32, 256, 14, 14]         589,824\n",
       "│    │    └─BatchNorm2d: 3-34            [32, 256, 14, 14]         512\n",
       "│    │    └─ReLU: 3-35                   [32, 256, 14, 14]         --\n",
       "│    │    └─Conv2d: 3-36                 [32, 256, 14, 14]         589,824\n",
       "│    │    └─BatchNorm2d: 3-37            [32, 256, 14, 14]         512\n",
       "│    │    └─ReLU: 3-38                   [32, 256, 14, 14]         --\n",
       "├─Sequential: 1-8                        [32, 512, 7, 7]           --\n",
       "│    └─BasicBlock: 2-7                   [32, 512, 7, 7]           --\n",
       "│    │    └─Conv2d: 3-39                 [32, 512, 7, 7]           1,179,648\n",
       "│    │    └─BatchNorm2d: 3-40            [32, 512, 7, 7]           1,024\n",
       "│    │    └─ReLU: 3-41                   [32, 512, 7, 7]           --\n",
       "│    │    └─Conv2d: 3-42                 [32, 512, 7, 7]           2,359,296\n",
       "│    │    └─BatchNorm2d: 3-43            [32, 512, 7, 7]           1,024\n",
       "│    │    └─Sequential: 3-44             [32, 512, 7, 7]           132,096\n",
       "│    │    └─ReLU: 3-45                   [32, 512, 7, 7]           --\n",
       "│    └─BasicBlock: 2-8                   [32, 512, 7, 7]           --\n",
       "│    │    └─Conv2d: 3-46                 [32, 512, 7, 7]           2,359,296\n",
       "│    │    └─BatchNorm2d: 3-47            [32, 512, 7, 7]           1,024\n",
       "│    │    └─ReLU: 3-48                   [32, 512, 7, 7]           --\n",
       "│    │    └─Conv2d: 3-49                 [32, 512, 7, 7]           2,359,296\n",
       "│    │    └─BatchNorm2d: 3-50            [32, 512, 7, 7]           1,024\n",
       "│    │    └─ReLU: 3-51                   [32, 512, 7, 7]           --\n",
       "├─AdaptiveAvgPool2d: 1-9                 [32, 512, 1, 1]           --\n",
       "├─Linear: 1-10                           [32, 50]                  25,650\n",
       "==========================================================================================\n",
       "Total params: 11,202,162\n",
       "Trainable params: 11,202,162\n",
       "Non-trainable params: 0\n",
       "Total mult-adds (G): 58.04\n",
       "==========================================================================================\n",
       "Input size (MB): 19.27\n",
       "Forward/backward pass size (MB): 1271.67\n",
       "Params size (MB): 44.81\n",
       "Estimated Total Size (MB): 1335.75\n",
       "=========================================================================================="
      ]
     },
     "execution_count": 7,
     "metadata": {},
     "output_type": "execute_result"
    }
   ],
   "source": [
    "import torchinfo\n",
    "\n",
    "torchinfo.summary(model, (32, 3,224,224))"
   ]
  },
  {
   "cell_type": "code",
   "execution_count": 8,
   "id": "7123c6a2",
   "metadata": {
    "execution": {
     "iopub.execute_input": "2024-04-27T18:24:13.052984Z",
     "iopub.status.busy": "2024-04-27T18:24:13.052651Z",
     "iopub.status.idle": "2024-04-27T18:24:33.686044Z",
     "shell.execute_reply": "2024-04-27T18:24:33.684979Z"
    },
    "papermill": {
     "duration": 20.641753,
     "end_time": "2024-04-27T18:24:33.688791",
     "exception": false,
     "start_time": "2024-04-27T18:24:13.047038",
     "status": "completed"
    },
    "tags": []
   },
   "outputs": [],
   "source": [
    "train_dir = '/kaggle/input/iith-dl-contest-2024/train/train'\n",
    "train_data  = datasets.ImageFolder(train_dir, transform = transform)\n",
    "train_loader = torch.utils.data.DataLoader(train_data, batch_size=32, shuffle=True)"
   ]
  },
  {
   "cell_type": "code",
   "execution_count": 9,
   "id": "50d45790",
   "metadata": {
    "execution": {
     "iopub.execute_input": "2024-04-27T18:24:33.700603Z",
     "iopub.status.busy": "2024-04-27T18:24:33.700289Z",
     "iopub.status.idle": "2024-04-27T18:25:06.138989Z",
     "shell.execute_reply": "2024-04-27T18:25:06.137938Z"
    },
    "papermill": {
     "duration": 32.447235,
     "end_time": "2024-04-27T18:25:06.141549",
     "exception": false,
     "start_time": "2024-04-27T18:24:33.694314",
     "status": "completed"
    },
    "tags": []
   },
   "outputs": [],
   "source": [
    "test_dir = '/kaggle/input/iith-dl-contest-2024/test'\n",
    "test_data  = datasets.ImageFolder(test_dir, transform = transform)\n",
    "test_loader = torch.utils.data.DataLoader(test_data, batch_size= 64, shuffle=False)"
   ]
  },
  {
   "cell_type": "code",
   "execution_count": 10,
   "id": "45e49196",
   "metadata": {
    "execution": {
     "iopub.execute_input": "2024-04-27T18:25:06.152480Z",
     "iopub.status.busy": "2024-04-27T18:25:06.152168Z",
     "iopub.status.idle": "2024-04-27T18:25:06.156978Z",
     "shell.execute_reply": "2024-04-27T18:25:06.156108Z"
    },
    "papermill": {
     "duration": 0.012345,
     "end_time": "2024-04-27T18:25:06.158908",
     "exception": false,
     "start_time": "2024-04-27T18:25:06.146563",
     "status": "completed"
    },
    "tags": []
   },
   "outputs": [],
   "source": [
    "# Reverse the class to index mapping to index to class for prediction interpretation\n",
    "classes = train_data.class_to_idx\n",
    "idx_to_class = {idx: class_name for class_name, idx in classes.items()}"
   ]
  },
  {
   "cell_type": "code",
   "execution_count": 11,
   "id": "62c59e72",
   "metadata": {
    "execution": {
     "iopub.execute_input": "2024-04-27T18:25:06.169494Z",
     "iopub.status.busy": "2024-04-27T18:25:06.169208Z",
     "iopub.status.idle": "2024-04-27T18:25:06.198802Z",
     "shell.execute_reply": "2024-04-27T18:25:06.198152Z"
    },
    "papermill": {
     "duration": 0.037012,
     "end_time": "2024-04-27T18:25:06.200701",
     "exception": false,
     "start_time": "2024-04-27T18:25:06.163689",
     "status": "completed"
    },
    "tags": []
   },
   "outputs": [],
   "source": [
    "# Convert class indices to class names\n",
    "\n",
    "\n",
    "# Generate image file names\n",
    "file_names = [f\"{i}.JPEG\" for i in range(len(test_data))]\n",
    "\n",
    "file_names = np.sort(file_names)"
   ]
  },
  {
   "cell_type": "code",
   "execution_count": 12,
   "id": "5bbf7480",
   "metadata": {
    "execution": {
     "iopub.execute_input": "2024-04-27T18:25:06.211157Z",
     "iopub.status.busy": "2024-04-27T18:25:06.210883Z",
     "iopub.status.idle": "2024-04-27T22:28:11.326045Z",
     "shell.execute_reply": "2024-04-27T22:28:11.325192Z"
    },
    "papermill": {
     "duration": 14585.12302,
     "end_time": "2024-04-27T22:28:11.328436",
     "exception": false,
     "start_time": "2024-04-27T18:25:06.205416",
     "status": "completed"
    },
    "tags": []
   },
   "outputs": [
    {
     "name": "stderr",
     "output_type": "stream",
     "text": [
      "2032it [14:37,  2.32it/s]\n"
     ]
    },
    {
     "name": "stdout",
     "output_type": "stream",
     "text": [
      "Epoch [1/20], Loss: 2.8867, Accuracy: 0.2358\n"
     ]
    },
    {
     "name": "stderr",
     "output_type": "stream",
     "text": [
      "2032it [10:51,  3.12it/s]\n"
     ]
    },
    {
     "name": "stdout",
     "output_type": "stream",
     "text": [
      "Epoch [2/20], Loss: 2.0947, Accuracy: 0.4159\n"
     ]
    },
    {
     "name": "stderr",
     "output_type": "stream",
     "text": [
      "2032it [10:06,  3.35it/s]\n"
     ]
    },
    {
     "name": "stdout",
     "output_type": "stream",
     "text": [
      "Epoch [3/20], Loss: 1.6923, Accuracy: 0.5175\n"
     ]
    },
    {
     "name": "stderr",
     "output_type": "stream",
     "text": [
      "2032it [10:06,  3.35it/s]\n"
     ]
    },
    {
     "name": "stdout",
     "output_type": "stream",
     "text": [
      "Epoch [4/20], Loss: 1.4010, Accuracy: 0.5942\n"
     ]
    },
    {
     "name": "stderr",
     "output_type": "stream",
     "text": [
      "2032it [10:03,  3.37it/s]\n"
     ]
    },
    {
     "name": "stdout",
     "output_type": "stream",
     "text": [
      "Epoch [5/20], Loss: 1.1463, Accuracy: 0.6643\n"
     ]
    },
    {
     "name": "stderr",
     "output_type": "stream",
     "text": [
      "2032it [09:59,  3.39it/s]\n"
     ]
    },
    {
     "name": "stdout",
     "output_type": "stream",
     "text": [
      "Epoch [6/20], Loss: 0.9155, Accuracy: 0.7273\n"
     ]
    },
    {
     "name": "stderr",
     "output_type": "stream",
     "text": [
      "2032it [10:05,  3.35it/s]\n"
     ]
    },
    {
     "name": "stdout",
     "output_type": "stream",
     "text": [
      "Epoch [7/20], Loss: 0.7025, Accuracy: 0.7855\n"
     ]
    },
    {
     "name": "stderr",
     "output_type": "stream",
     "text": [
      "2032it [10:27,  3.24it/s]\n"
     ]
    },
    {
     "name": "stdout",
     "output_type": "stream",
     "text": [
      "Epoch [8/20], Loss: 0.4907, Accuracy: 0.8460\n"
     ]
    },
    {
     "name": "stderr",
     "output_type": "stream",
     "text": [
      "2032it [10:31,  3.22it/s]\n"
     ]
    },
    {
     "name": "stdout",
     "output_type": "stream",
     "text": [
      "Epoch [9/20], Loss: 0.3313, Accuracy: 0.8950\n"
     ]
    },
    {
     "name": "stderr",
     "output_type": "stream",
     "text": [
      "100%|██████████| 600/600 [04:35<00:00,  2.18it/s]\n",
      "2032it [10:03,  3.36it/s]\n"
     ]
    },
    {
     "name": "stdout",
     "output_type": "stream",
     "text": [
      "Epoch [10/20], Loss: 0.2280, Accuracy: 0.9261\n"
     ]
    },
    {
     "name": "stderr",
     "output_type": "stream",
     "text": [
      "100%|██████████| 600/600 [02:47<00:00,  3.58it/s]\n",
      "2032it [10:07,  3.34it/s]\n"
     ]
    },
    {
     "name": "stdout",
     "output_type": "stream",
     "text": [
      "Epoch [11/20], Loss: 0.1808, Accuracy: 0.9414\n"
     ]
    },
    {
     "name": "stderr",
     "output_type": "stream",
     "text": [
      "100%|██████████| 600/600 [02:28<00:00,  4.03it/s]\n",
      "2032it [10:31,  3.22it/s]\n"
     ]
    },
    {
     "name": "stdout",
     "output_type": "stream",
     "text": [
      "Epoch [12/20], Loss: 0.1422, Accuracy: 0.9535\n"
     ]
    },
    {
     "name": "stderr",
     "output_type": "stream",
     "text": [
      "100%|██████████| 600/600 [02:32<00:00,  3.94it/s]\n",
      "2032it [10:00,  3.38it/s]\n"
     ]
    },
    {
     "name": "stdout",
     "output_type": "stream",
     "text": [
      "Epoch [13/20], Loss: 0.1311, Accuracy: 0.9569\n"
     ]
    },
    {
     "name": "stderr",
     "output_type": "stream",
     "text": [
      "100%|██████████| 600/600 [02:48<00:00,  3.56it/s]\n",
      "2032it [10:04,  3.36it/s]\n"
     ]
    },
    {
     "name": "stdout",
     "output_type": "stream",
     "text": [
      "Epoch [14/20], Loss: 0.1102, Accuracy: 0.9643\n"
     ]
    },
    {
     "name": "stderr",
     "output_type": "stream",
     "text": [
      "100%|██████████| 600/600 [02:26<00:00,  4.11it/s]\n",
      "2032it [09:54,  3.42it/s]\n"
     ]
    },
    {
     "name": "stdout",
     "output_type": "stream",
     "text": [
      "Epoch [15/20], Loss: 0.1099, Accuracy: 0.9634\n"
     ]
    },
    {
     "name": "stderr",
     "output_type": "stream",
     "text": [
      "100%|██████████| 600/600 [02:28<00:00,  4.04it/s]\n",
      "2032it [10:08,  3.34it/s]\n"
     ]
    },
    {
     "name": "stdout",
     "output_type": "stream",
     "text": [
      "Epoch [16/20], Loss: 0.0954, Accuracy: 0.9689\n"
     ]
    },
    {
     "name": "stderr",
     "output_type": "stream",
     "text": [
      "100%|██████████| 600/600 [03:11<00:00,  3.13it/s]\n",
      "2032it [10:40,  3.17it/s]\n"
     ]
    },
    {
     "name": "stdout",
     "output_type": "stream",
     "text": [
      "Epoch [17/20], Loss: 0.0859, Accuracy: 0.9724\n"
     ]
    },
    {
     "name": "stderr",
     "output_type": "stream",
     "text": [
      "100%|██████████| 600/600 [02:20<00:00,  4.26it/s]\n",
      "2032it [10:00,  3.38it/s]\n"
     ]
    },
    {
     "name": "stdout",
     "output_type": "stream",
     "text": [
      "Epoch [18/20], Loss: 0.0804, Accuracy: 0.9740\n"
     ]
    },
    {
     "name": "stderr",
     "output_type": "stream",
     "text": [
      "100%|██████████| 600/600 [02:27<00:00,  4.05it/s]\n",
      "2032it [10:22,  3.26it/s]\n"
     ]
    },
    {
     "name": "stdout",
     "output_type": "stream",
     "text": [
      "Epoch [19/20], Loss: 0.0750, Accuracy: 0.9758\n"
     ]
    },
    {
     "name": "stderr",
     "output_type": "stream",
     "text": [
      "100%|██████████| 600/600 [02:22<00:00,  4.20it/s]\n",
      "2032it [10:22,  3.27it/s]\n"
     ]
    },
    {
     "name": "stdout",
     "output_type": "stream",
     "text": [
      "Epoch [20/20], Loss: 0.0724, Accuracy: 0.9764\n"
     ]
    },
    {
     "name": "stderr",
     "output_type": "stream",
     "text": [
      "100%|██████████| 600/600 [03:24<00:00,  2.93it/s]\n"
     ]
    }
   ],
   "source": [
    "# Defining loss criterion and optimizer\n",
    "loss_func = nn.CrossEntropyLoss()\n",
    "optimizer = optim.Adam(model.parameters(), lr=0.001)\n",
    "\n",
    "# Training loop\n",
    "epochs = 20\n",
    "for epoch in range(epochs):\n",
    "    model.train()  # Setting the model to training mode\n",
    "    running_loss = 0.0\n",
    "    correct_preds = 0\n",
    "    total_samples = 0\n",
    "    for i, (inputs, labels) in tqdm(enumerate(train_loader)):\n",
    "        inputs, labels = inputs.to(device), labels.to(device)\n",
    "        optimizer.zero_grad()  # Clearing gradients\n",
    "\n",
    "        # Forward pass\n",
    "        outputs = model(inputs)\n",
    "\n",
    "        # Computing loss\n",
    "        loss = loss_func(outputs, labels)\n",
    "\n",
    "        # Backward pass and optimization\n",
    "        loss.backward()\n",
    "        optimizer.step()\n",
    "\n",
    "        # Updating running loss\n",
    "        running_loss += loss.item() * inputs.size(0)\n",
    "\n",
    "        # Calculating accuracy\n",
    "        _, predicted = torch.max(outputs, 1)\n",
    "        correct_preds += torch.sum(predicted == labels).item()\n",
    "        total_samples += labels.size(0)\n",
    "\n",
    "    # Printing average loss and accuracy for the current epoch\n",
    "    epoch_loss = running_loss / len(train_data)\n",
    "    epoch_acc = correct_preds / total_samples\n",
    "    print(f'Epoch [{epoch+1}/{epochs}], Loss: {epoch_loss:.4f}, Accuracy: {epoch_acc:.4f}')\n",
    "    if epoch + 1 > 8:\n",
    "        \n",
    "        outputs_list = []\n",
    "\n",
    "        # Process images and gather predictions\n",
    "        for images, _ in tqdm(test_loader):\n",
    "            images = images.to(device)\n",
    "            outputs = model(images)\n",
    "            _, predicted = torch.max(outputs, dim=1)\n",
    "            outputs_list.append(predicted)\n",
    "\n",
    "        # Concatenate all predictions into a single tensor\n",
    "        outputs = torch.cat(outputs_list).cpu().numpy()\n",
    "        predicted_classes = np.array([idx_to_class[idx] for idx in outputs], dtype=object)\n",
    "        # Combine file names and predicted classes\n",
    "        table = np.column_stack((file_names, predicted_classes))\n",
    "\n",
    "        # Write results to CSV file\n",
    "        str = \"submission{}.csv\".format(epoch + 1)\n",
    "        with open(str, 'w', newline='') as file:\n",
    "            wr = csv.writer(file)\n",
    "            wr.writerow(['ID', 'Category'])\n",
    "            wr.writerows(table)\n",
    "        str = \"/kaggle/working/weights{}.pth\".format(epoch + 1)\n",
    "        torch.save(model.state_dict(), str)\n",
    "        \n",
    "        \n",
    "    "
   ]
  }
 ],
 "metadata": {
  "kaggle": {
   "accelerator": "nvidiaTeslaT4",
   "dataSources": [
    {
     "databundleVersionId": 8040143,
     "sourceId": 73111,
     "sourceType": "competition"
    }
   ],
   "dockerImageVersionId": 30699,
   "isGpuEnabled": true,
   "isInternetEnabled": true,
   "language": "python",
   "sourceType": "notebook"
  },
  "kernelspec": {
   "display_name": "Python 3",
   "language": "python",
   "name": "python3"
  },
  "language_info": {
   "codemirror_mode": {
    "name": "ipython",
    "version": 3
   },
   "file_extension": ".py",
   "mimetype": "text/x-python",
   "name": "python",
   "nbconvert_exporter": "python",
   "pygments_lexer": "ipython3",
   "version": "3.10.13"
  },
  "papermill": {
   "default_parameters": {},
   "duration": 14656.81836,
   "end_time": "2024-04-27T22:28:17.946478",
   "environment_variables": {},
   "exception": null,
   "input_path": "__notebook__.ipynb",
   "output_path": "__notebook__.ipynb",
   "parameters": {},
   "start_time": "2024-04-27T18:24:01.128118",
   "version": "2.5.0"
  }
 },
 "nbformat": 4,
 "nbformat_minor": 5
}
