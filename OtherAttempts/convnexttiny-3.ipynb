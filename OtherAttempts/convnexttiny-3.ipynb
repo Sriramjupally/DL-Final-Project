{
 "cells": [
  {
   "cell_type": "code",
   "execution_count": 1,
   "id": "1c4eef87",
   "metadata": {
    "execution": {
     "iopub.execute_input": "2024-04-18T13:19:46.848107Z",
     "iopub.status.busy": "2024-04-18T13:19:46.847824Z",
     "iopub.status.idle": "2024-04-18T13:19:53.380143Z",
     "shell.execute_reply": "2024-04-18T13:19:53.379273Z"
    },
    "papermill": {
     "duration": 6.54012,
     "end_time": "2024-04-18T13:19:53.382613",
     "exception": false,
     "start_time": "2024-04-18T13:19:46.842493",
     "status": "completed"
    },
    "tags": []
   },
   "outputs": [],
   "source": [
    "import torch\n",
    "import torch.nn as nn\n",
    "import torchvision\n",
    "from torchvision import datasets, transforms, models\n",
    "# import torchvision.models as models\n",
    "import torch.nn.functional as F\n",
    "import torch.optim as optim\n",
    "from tqdm import tqdm\n",
    "import numpy as np\n",
    "import csv"
   ]
  },
  {
   "cell_type": "code",
   "execution_count": 2,
   "id": "9d8b7f78",
   "metadata": {
    "execution": {
     "iopub.execute_input": "2024-04-18T13:19:53.392277Z",
     "iopub.status.busy": "2024-04-18T13:19:53.391730Z",
     "iopub.status.idle": "2024-04-18T13:19:53.467447Z",
     "shell.execute_reply": "2024-04-18T13:19:53.466399Z"
    },
    "papermill": {
     "duration": 0.082512,
     "end_time": "2024-04-18T13:19:53.469508",
     "exception": false,
     "start_time": "2024-04-18T13:19:53.386996",
     "status": "completed"
    },
    "tags": []
   },
   "outputs": [],
   "source": [
    "device = torch.device('cuda' if torch.cuda.is_available() else 'cpu')"
   ]
  },
  {
   "cell_type": "code",
   "execution_count": 3,
   "id": "77ea2c43",
   "metadata": {
    "execution": {
     "iopub.execute_input": "2024-04-18T13:19:53.478072Z",
     "iopub.status.busy": "2024-04-18T13:19:53.477809Z",
     "iopub.status.idle": "2024-04-18T13:19:53.482507Z",
     "shell.execute_reply": "2024-04-18T13:19:53.481676Z"
    },
    "papermill": {
     "duration": 0.011072,
     "end_time": "2024-04-18T13:19:53.484388",
     "exception": false,
     "start_time": "2024-04-18T13:19:53.473316",
     "status": "completed"
    },
    "tags": []
   },
   "outputs": [],
   "source": [
    "transform = transforms.Compose([\n",
    "    transforms.Resize((224, 224)),  \n",
    "    transforms.ToTensor(),  \n",
    "    transforms.Normalize(mean=[0.5, 0.5, 0.5], std=[0.5, 0.5, 0.5])  \n",
    "])"
   ]
  },
  {
   "cell_type": "code",
   "execution_count": 4,
   "id": "f73c7820",
   "metadata": {
    "execution": {
     "iopub.execute_input": "2024-04-18T13:19:53.492903Z",
     "iopub.status.busy": "2024-04-18T13:19:53.492329Z",
     "iopub.status.idle": "2024-04-18T13:19:54.399736Z",
     "shell.execute_reply": "2024-04-18T13:19:54.398886Z"
    },
    "papermill": {
     "duration": 0.914217,
     "end_time": "2024-04-18T13:19:54.402154",
     "exception": false,
     "start_time": "2024-04-18T13:19:53.487937",
     "status": "completed"
    },
    "tags": []
   },
   "outputs": [],
   "source": [
    "\n",
    "model = models.convnext_tiny(weights= None).to(device)"
   ]
  },
  {
   "cell_type": "code",
   "execution_count": 5,
   "id": "e5332765",
   "metadata": {
    "execution": {
     "iopub.execute_input": "2024-04-18T13:19:54.411022Z",
     "iopub.status.busy": "2024-04-18T13:19:54.410722Z",
     "iopub.status.idle": "2024-04-18T13:19:54.414738Z",
     "shell.execute_reply": "2024-04-18T13:19:54.413835Z"
    },
    "papermill": {
     "duration": 0.010686,
     "end_time": "2024-04-18T13:19:54.416834",
     "exception": false,
     "start_time": "2024-04-18T13:19:54.406148",
     "status": "completed"
    },
    "tags": []
   },
   "outputs": [],
   "source": [
    "# print(model)"
   ]
  },
  {
   "cell_type": "code",
   "execution_count": 6,
   "id": "9e8938a5",
   "metadata": {
    "execution": {
     "iopub.execute_input": "2024-04-18T13:19:54.425670Z",
     "iopub.status.busy": "2024-04-18T13:19:54.425388Z",
     "iopub.status.idle": "2024-04-18T13:19:54.429933Z",
     "shell.execute_reply": "2024-04-18T13:19:54.429176Z"
    },
    "papermill": {
     "duration": 0.011036,
     "end_time": "2024-04-18T13:19:54.431762",
     "exception": false,
     "start_time": "2024-04-18T13:19:54.420726",
     "status": "completed"
    },
    "tags": []
   },
   "outputs": [],
   "source": [
    "model.classifier[2] = nn.Linear(768,50)"
   ]
  },
  {
   "cell_type": "code",
   "execution_count": 7,
   "id": "6ee9b6c2",
   "metadata": {
    "execution": {
     "iopub.execute_input": "2024-04-18T13:19:54.441011Z",
     "iopub.status.busy": "2024-04-18T13:19:54.440753Z",
     "iopub.status.idle": "2024-04-18T13:19:55.140744Z",
     "shell.execute_reply": "2024-04-18T13:19:55.139882Z"
    },
    "papermill": {
     "duration": 0.707012,
     "end_time": "2024-04-18T13:19:55.142913",
     "exception": false,
     "start_time": "2024-04-18T13:19:54.435901",
     "status": "completed"
    },
    "tags": []
   },
   "outputs": [
    {
     "data": {
      "text/plain": [
       "===============================================================================================\n",
       "Layer (type:depth-idx)                        Output Shape              Param #\n",
       "===============================================================================================\n",
       "ConvNeXt                                      [32, 50]                  --\n",
       "├─Sequential: 1-1                             [32, 768, 2, 2]           --\n",
       "│    └─Conv2dNormActivation: 2-1              [32, 96, 16, 16]          --\n",
       "│    │    └─Conv2d: 3-1                       [32, 96, 16, 16]          4,704\n",
       "│    │    └─LayerNorm2d: 3-2                  [32, 96, 16, 16]          192\n",
       "│    └─Sequential: 2-2                        [32, 96, 16, 16]          --\n",
       "│    │    └─CNBlock: 3-3                      [32, 96, 16, 16]          79,296\n",
       "│    │    └─CNBlock: 3-4                      [32, 96, 16, 16]          79,296\n",
       "│    │    └─CNBlock: 3-5                      [32, 96, 16, 16]          79,296\n",
       "│    └─Sequential: 2-3                        [32, 192, 8, 8]           --\n",
       "│    │    └─LayerNorm2d: 3-6                  [32, 96, 16, 16]          192\n",
       "│    │    └─Conv2d: 3-7                       [32, 192, 8, 8]           73,920\n",
       "│    └─Sequential: 2-4                        [32, 192, 8, 8]           --\n",
       "│    │    └─CNBlock: 3-8                      [32, 192, 8, 8]           306,048\n",
       "│    │    └─CNBlock: 3-9                      [32, 192, 8, 8]           306,048\n",
       "│    │    └─CNBlock: 3-10                     [32, 192, 8, 8]           306,048\n",
       "│    └─Sequential: 2-5                        [32, 384, 4, 4]           --\n",
       "│    │    └─LayerNorm2d: 3-11                 [32, 192, 8, 8]           384\n",
       "│    │    └─Conv2d: 3-12                      [32, 384, 4, 4]           295,296\n",
       "│    └─Sequential: 2-6                        [32, 384, 4, 4]           --\n",
       "│    │    └─CNBlock: 3-13                     [32, 384, 4, 4]           1,201,920\n",
       "│    │    └─CNBlock: 3-14                     [32, 384, 4, 4]           1,201,920\n",
       "│    │    └─CNBlock: 3-15                     [32, 384, 4, 4]           1,201,920\n",
       "│    │    └─CNBlock: 3-16                     [32, 384, 4, 4]           1,201,920\n",
       "│    │    └─CNBlock: 3-17                     [32, 384, 4, 4]           1,201,920\n",
       "│    │    └─CNBlock: 3-18                     [32, 384, 4, 4]           1,201,920\n",
       "│    │    └─CNBlock: 3-19                     [32, 384, 4, 4]           1,201,920\n",
       "│    │    └─CNBlock: 3-20                     [32, 384, 4, 4]           1,201,920\n",
       "│    │    └─CNBlock: 3-21                     [32, 384, 4, 4]           1,201,920\n",
       "│    └─Sequential: 2-7                        [32, 768, 2, 2]           --\n",
       "│    │    └─LayerNorm2d: 3-22                 [32, 384, 4, 4]           768\n",
       "│    │    └─Conv2d: 3-23                      [32, 768, 2, 2]           1,180,416\n",
       "│    └─Sequential: 2-8                        [32, 768, 2, 2]           --\n",
       "│    │    └─CNBlock: 3-24                     [32, 768, 2, 2]           4,763,136\n",
       "│    │    └─CNBlock: 3-25                     [32, 768, 2, 2]           4,763,136\n",
       "│    │    └─CNBlock: 3-26                     [32, 768, 2, 2]           4,763,136\n",
       "├─AdaptiveAvgPool2d: 1-2                      [32, 768, 1, 1]           --\n",
       "├─Sequential: 1-3                             [32, 50]                  --\n",
       "│    └─LayerNorm2d: 2-9                       [32, 768, 1, 1]           1,536\n",
       "│    └─Flatten: 2-10                          [32, 768]                 --\n",
       "│    └─Linear: 2-11                           [32, 50]                  38,450\n",
       "===============================================================================================\n",
       "Total params: 27,858,578\n",
       "Trainable params: 27,858,578\n",
       "Non-trainable params: 0\n",
       "Total mult-adds (G): 1.60\n",
       "===============================================================================================\n",
       "Input size (MB): 1.57\n",
       "Forward/backward pass size (MB): 343.09\n",
       "Params size (MB): 111.41\n",
       "Estimated Total Size (MB): 456.07\n",
       "==============================================================================================="
      ]
     },
     "execution_count": 7,
     "metadata": {},
     "output_type": "execute_result"
    }
   ],
   "source": [
    "import torchinfo\n",
    "\n",
    "torchinfo.summary(model, (32, 3,64,64))"
   ]
  },
  {
   "cell_type": "code",
   "execution_count": 8,
   "id": "d640b796",
   "metadata": {
    "execution": {
     "iopub.execute_input": "2024-04-18T13:19:55.152237Z",
     "iopub.status.busy": "2024-04-18T13:19:55.151969Z",
     "iopub.status.idle": "2024-04-18T13:19:55.155706Z",
     "shell.execute_reply": "2024-04-18T13:19:55.154928Z"
    },
    "papermill": {
     "duration": 0.010382,
     "end_time": "2024-04-18T13:19:55.157533",
     "exception": false,
     "start_time": "2024-04-18T13:19:55.147151",
     "status": "completed"
    },
    "tags": []
   },
   "outputs": [],
   "source": [
    "# model = CNN(num_classes=50).to(device)"
   ]
  },
  {
   "cell_type": "code",
   "execution_count": 9,
   "id": "2e5c14ca",
   "metadata": {
    "execution": {
     "iopub.execute_input": "2024-04-18T13:19:55.166884Z",
     "iopub.status.busy": "2024-04-18T13:19:55.166645Z",
     "iopub.status.idle": "2024-04-18T13:20:23.347904Z",
     "shell.execute_reply": "2024-04-18T13:20:23.346914Z"
    },
    "papermill": {
     "duration": 28.188676,
     "end_time": "2024-04-18T13:20:23.350478",
     "exception": false,
     "start_time": "2024-04-18T13:19:55.161802",
     "status": "completed"
    },
    "tags": []
   },
   "outputs": [],
   "source": [
    "train_dir = '/kaggle/input/iith-dl-contest-2024/train/train'\n",
    "train_data  = datasets.ImageFolder(train_dir, transform = transform)\n",
    "train_loader = torch.utils.data.DataLoader(train_data, batch_size= 64, shuffle=True)"
   ]
  },
  {
   "cell_type": "code",
   "execution_count": 10,
   "id": "2f46201b",
   "metadata": {
    "execution": {
     "iopub.execute_input": "2024-04-18T13:20:23.361608Z",
     "iopub.status.busy": "2024-04-18T13:20:23.360872Z",
     "iopub.status.idle": "2024-04-18T13:20:53.509578Z",
     "shell.execute_reply": "2024-04-18T13:20:53.508678Z"
    },
    "papermill": {
     "duration": 30.156746,
     "end_time": "2024-04-18T13:20:53.512040",
     "exception": false,
     "start_time": "2024-04-18T13:20:23.355294",
     "status": "completed"
    },
    "tags": []
   },
   "outputs": [],
   "source": [
    "test_dir = '/kaggle/input/iith-dl-contest-2024/test'\n",
    "test_data  = datasets.ImageFolder(test_dir, transform = transform)\n",
    "test_loader = torch.utils.data.DataLoader(test_data, batch_size= 64, shuffle=False)"
   ]
  },
  {
   "cell_type": "code",
   "execution_count": 11,
   "id": "9002f5dd",
   "metadata": {
    "execution": {
     "iopub.execute_input": "2024-04-18T13:20:53.522474Z",
     "iopub.status.busy": "2024-04-18T13:20:53.522137Z",
     "iopub.status.idle": "2024-04-18T13:20:53.526712Z",
     "shell.execute_reply": "2024-04-18T13:20:53.525875Z"
    },
    "papermill": {
     "duration": 0.011942,
     "end_time": "2024-04-18T13:20:53.528704",
     "exception": false,
     "start_time": "2024-04-18T13:20:53.516762",
     "status": "completed"
    },
    "tags": []
   },
   "outputs": [],
   "source": [
    "# Reverse the class to index mapping to index to class for prediction interpretation\n",
    "classes = train_data.class_to_idx\n",
    "idx_to_class = {idx: class_name for class_name, idx in classes.items()}"
   ]
  },
  {
   "cell_type": "code",
   "execution_count": 12,
   "id": "3d71e531",
   "metadata": {
    "execution": {
     "iopub.execute_input": "2024-04-18T13:20:53.538658Z",
     "iopub.status.busy": "2024-04-18T13:20:53.538408Z",
     "iopub.status.idle": "2024-04-18T13:20:53.568781Z",
     "shell.execute_reply": "2024-04-18T13:20:53.568113Z"
    },
    "papermill": {
     "duration": 0.037536,
     "end_time": "2024-04-18T13:20:53.570702",
     "exception": false,
     "start_time": "2024-04-18T13:20:53.533166",
     "status": "completed"
    },
    "tags": []
   },
   "outputs": [],
   "source": [
    "# Convert class indices to class names\n",
    "\n",
    "\n",
    "# Generate image file names\n",
    "file_names = [f\"{i}.JPEG\" for i in range(len(test_data))]\n",
    "\n",
    "file_names = np.sort(file_names)"
   ]
  },
  {
   "cell_type": "code",
   "execution_count": 13,
   "id": "3d1ccc20",
   "metadata": {
    "execution": {
     "iopub.execute_input": "2024-04-18T13:20:53.580871Z",
     "iopub.status.busy": "2024-04-18T13:20:53.580617Z",
     "iopub.status.idle": "2024-04-18T21:38:52.434275Z",
     "shell.execute_reply": "2024-04-18T21:38:52.433085Z"
    },
    "papermill": {
     "duration": 29878.861216,
     "end_time": "2024-04-18T21:38:52.436481",
     "exception": false,
     "start_time": "2024-04-18T13:20:53.575265",
     "status": "completed"
    },
    "tags": []
   },
   "outputs": [
    {
     "name": "stderr",
     "output_type": "stream",
     "text": [
      "1016it [27:47,  1.64s/it]\n"
     ]
    },
    {
     "name": "stdout",
     "output_type": "stream",
     "text": [
      "Epoch [1/20], Loss: 3.3157, Accuracy: 0.1506\n"
     ]
    },
    {
     "name": "stderr",
     "output_type": "stream",
     "text": [
      "1016it [23:37,  1.40s/it]\n"
     ]
    },
    {
     "name": "stdout",
     "output_type": "stream",
     "text": [
      "Epoch [2/20], Loss: 2.7437, Accuracy: 0.2708\n"
     ]
    },
    {
     "name": "stderr",
     "output_type": "stream",
     "text": [
      "1016it [23:38,  1.40s/it]\n"
     ]
    },
    {
     "name": "stdout",
     "output_type": "stream",
     "text": [
      "Epoch [3/20], Loss: 2.3623, Accuracy: 0.3592\n"
     ]
    },
    {
     "name": "stderr",
     "output_type": "stream",
     "text": [
      "1016it [23:08,  1.37s/it]\n"
     ]
    },
    {
     "name": "stdout",
     "output_type": "stream",
     "text": [
      "Epoch [4/20], Loss: 2.0860, Accuracy: 0.4270\n"
     ]
    },
    {
     "name": "stderr",
     "output_type": "stream",
     "text": [
      "1016it [22:50,  1.35s/it]\n"
     ]
    },
    {
     "name": "stdout",
     "output_type": "stream",
     "text": [
      "Epoch [5/20], Loss: 1.8764, Accuracy: 0.4783\n"
     ]
    },
    {
     "name": "stderr",
     "output_type": "stream",
     "text": [
      "1016it [22:45,  1.34s/it]\n"
     ]
    },
    {
     "name": "stdout",
     "output_type": "stream",
     "text": [
      "Epoch [6/20], Loss: 1.6912, Accuracy: 0.5227\n"
     ]
    },
    {
     "name": "stderr",
     "output_type": "stream",
     "text": [
      "1016it [22:37,  1.34s/it]\n"
     ]
    },
    {
     "name": "stdout",
     "output_type": "stream",
     "text": [
      "Epoch [7/20], Loss: 1.4969, Accuracy: 0.5744\n"
     ]
    },
    {
     "name": "stderr",
     "output_type": "stream",
     "text": [
      "1016it [22:51,  1.35s/it]\n"
     ]
    },
    {
     "name": "stdout",
     "output_type": "stream",
     "text": [
      "Epoch [8/20], Loss: 1.3000, Accuracy: 0.6259\n"
     ]
    },
    {
     "name": "stderr",
     "output_type": "stream",
     "text": [
      "1016it [22:34,  1.33s/it]\n"
     ]
    },
    {
     "name": "stdout",
     "output_type": "stream",
     "text": [
      "Epoch [9/20], Loss: 1.1073, Accuracy: 0.6731\n"
     ]
    },
    {
     "name": "stderr",
     "output_type": "stream",
     "text": [
      "100%|██████████| 600/600 [03:50<00:00,  2.61it/s]\n",
      "1016it [22:36,  1.34s/it]\n"
     ]
    },
    {
     "name": "stdout",
     "output_type": "stream",
     "text": [
      "Epoch [10/20], Loss: 0.9155, Accuracy: 0.7243\n"
     ]
    },
    {
     "name": "stderr",
     "output_type": "stream",
     "text": [
      "100%|██████████| 600/600 [02:52<00:00,  3.48it/s]\n",
      "1016it [22:36,  1.34s/it]\n"
     ]
    },
    {
     "name": "stdout",
     "output_type": "stream",
     "text": [
      "Epoch [11/20], Loss: 0.7177, Accuracy: 0.7813\n"
     ]
    },
    {
     "name": "stderr",
     "output_type": "stream",
     "text": [
      "100%|██████████| 600/600 [03:13<00:00,  3.11it/s]\n",
      "1016it [22:38,  1.34s/it]\n"
     ]
    },
    {
     "name": "stdout",
     "output_type": "stream",
     "text": [
      "Epoch [12/20], Loss: 0.5367, Accuracy: 0.8304\n"
     ]
    },
    {
     "name": "stderr",
     "output_type": "stream",
     "text": [
      "100%|██████████| 600/600 [02:53<00:00,  3.45it/s]\n",
      "1016it [22:41,  1.34s/it]\n"
     ]
    },
    {
     "name": "stdout",
     "output_type": "stream",
     "text": [
      "Epoch [13/20], Loss: 0.4045, Accuracy: 0.8707\n"
     ]
    },
    {
     "name": "stderr",
     "output_type": "stream",
     "text": [
      "100%|██████████| 600/600 [02:53<00:00,  3.45it/s]\n",
      "1016it [22:45,  1.34s/it]\n"
     ]
    },
    {
     "name": "stdout",
     "output_type": "stream",
     "text": [
      "Epoch [14/20], Loss: 0.3067, Accuracy: 0.9009\n"
     ]
    },
    {
     "name": "stderr",
     "output_type": "stream",
     "text": [
      "100%|██████████| 600/600 [02:55<00:00,  3.43it/s]\n",
      "1016it [22:42,  1.34s/it]\n"
     ]
    },
    {
     "name": "stdout",
     "output_type": "stream",
     "text": [
      "Epoch [15/20], Loss: 0.2504, Accuracy: 0.9202\n"
     ]
    },
    {
     "name": "stderr",
     "output_type": "stream",
     "text": [
      "100%|██████████| 600/600 [03:03<00:00,  3.28it/s]\n",
      "1016it [22:46,  1.34s/it]\n"
     ]
    },
    {
     "name": "stdout",
     "output_type": "stream",
     "text": [
      "Epoch [16/20], Loss: 0.2153, Accuracy: 0.9314\n"
     ]
    },
    {
     "name": "stderr",
     "output_type": "stream",
     "text": [
      "100%|██████████| 600/600 [02:54<00:00,  3.43it/s]\n",
      "1016it [22:48,  1.35s/it]\n"
     ]
    },
    {
     "name": "stdout",
     "output_type": "stream",
     "text": [
      "Epoch [17/20], Loss: 0.1945, Accuracy: 0.9380\n"
     ]
    },
    {
     "name": "stderr",
     "output_type": "stream",
     "text": [
      "100%|██████████| 600/600 [02:53<00:00,  3.45it/s]\n",
      "1016it [22:46,  1.34s/it]\n"
     ]
    },
    {
     "name": "stdout",
     "output_type": "stream",
     "text": [
      "Epoch [18/20], Loss: 0.1784, Accuracy: 0.9433\n"
     ]
    },
    {
     "name": "stderr",
     "output_type": "stream",
     "text": [
      "100%|██████████| 600/600 [02:53<00:00,  3.45it/s]\n",
      "1016it [22:44,  1.34s/it]\n"
     ]
    },
    {
     "name": "stdout",
     "output_type": "stream",
     "text": [
      "Epoch [19/20], Loss: 0.1674, Accuracy: 0.9463\n"
     ]
    },
    {
     "name": "stderr",
     "output_type": "stream",
     "text": [
      "100%|██████████| 600/600 [02:53<00:00,  3.46it/s]\n",
      "1016it [22:44,  1.34s/it]\n"
     ]
    },
    {
     "name": "stdout",
     "output_type": "stream",
     "text": [
      "Epoch [20/20], Loss: 0.1508, Accuracy: 0.9516\n"
     ]
    },
    {
     "name": "stderr",
     "output_type": "stream",
     "text": [
      "100%|██████████| 600/600 [02:54<00:00,  3.44it/s]\n"
     ]
    }
   ],
   "source": [
    "# Defining loss criterion and optimizer\n",
    "loss_func = nn.CrossEntropyLoss()\n",
    "optimizer = optim.Adam(model.parameters(), lr=0.001)\n",
    "\n",
    "# Training loop\n",
    "epochs = 20\n",
    "for epoch in range(epochs):\n",
    "    model.train()  # Setting the model to training mode\n",
    "    running_loss = 0.0\n",
    "    correct_preds = 0\n",
    "    total_samples = 0\n",
    "    for i, (inputs, labels) in tqdm(enumerate(train_loader)):\n",
    "        inputs, labels = inputs.to(device), labels.to(device)\n",
    "        optimizer.zero_grad()  # Clearing gradients\n",
    "\n",
    "        # Forward pass\n",
    "        outputs = model(inputs)\n",
    "\n",
    "        # Computing loss\n",
    "        loss = loss_func(outputs, labels)\n",
    "\n",
    "        # Backward pass and optimization\n",
    "        loss.backward()\n",
    "        optimizer.step()\n",
    "\n",
    "        # Updating running loss\n",
    "        running_loss += loss.item() * inputs.size(0)\n",
    "\n",
    "        # Calculating accuracy\n",
    "        _, predicted = torch.max(outputs, 1)\n",
    "        correct_preds += torch.sum(predicted == labels).item()\n",
    "        total_samples += labels.size(0)\n",
    "\n",
    "    # Printing average loss and accuracy for the current epoch\n",
    "    epoch_loss = running_loss / len(train_data)\n",
    "    epoch_acc = correct_preds / total_samples\n",
    "    print(f'Epoch [{epoch+1}/{epochs}], Loss: {epoch_loss:.4f}, Accuracy: {epoch_acc:.4f}')\n",
    "    if epoch + 1 > 8:\n",
    "        \n",
    "        outputs_list = []\n",
    "\n",
    "        # Process images and gather predictions\n",
    "        for images, _ in tqdm(test_loader):\n",
    "            images = images.to(device)\n",
    "            outputs = model(images)\n",
    "            _, predicted = torch.max(outputs, dim=1)\n",
    "            outputs_list.append(predicted)\n",
    "\n",
    "        # Concatenate all predictions into a single tensor\n",
    "        outputs = torch.cat(outputs_list).cpu().numpy()\n",
    "        predicted_classes = np.array([idx_to_class[idx] for idx in outputs], dtype=object)\n",
    "        # Combine file names and predicted classes\n",
    "        table = np.column_stack((file_names, predicted_classes))\n",
    "\n",
    "        # Write results to CSV file\n",
    "        str = \"submission{}.csv\".format(epoch + 1)\n",
    "        with open('submission1.csv', 'w', newline='') as file:\n",
    "            wr = csv.writer(file)\n",
    "            wr.writerow(['ID', 'Category'])\n",
    "            wr.writerows(table)\n",
    "\n",
    "        \n",
    "    "
   ]
  }
 ],
 "metadata": {
  "kaggle": {
   "accelerator": "nvidiaTeslaT4",
   "dataSources": [
    {
     "databundleVersionId": 8040143,
     "sourceId": 73111,
     "sourceType": "competition"
    },
    {
     "sourceId": 172399470,
     "sourceType": "kernelVersion"
    }
   ],
   "dockerImageVersionId": 30683,
   "isGpuEnabled": true,
   "isInternetEnabled": true,
   "language": "python",
   "sourceType": "notebook"
  },
  "kernelspec": {
   "display_name": "Python 3",
   "language": "python",
   "name": "python3"
  },
  "language_info": {
   "codemirror_mode": {
    "name": "ipython",
    "version": 3
   },
   "file_extension": ".py",
   "mimetype": "text/x-python",
   "name": "python",
   "nbconvert_exporter": "python",
   "pygments_lexer": "ipython3",
   "version": "3.10.13"
  },
  "papermill": {
   "default_parameters": {},
   "duration": 29953.473265,
   "end_time": "2024-04-18T21:38:57.442437",
   "environment_variables": {},
   "exception": null,
   "input_path": "__notebook__.ipynb",
   "output_path": "__notebook__.ipynb",
   "parameters": {},
   "start_time": "2024-04-18T13:19:43.969172",
   "version": "2.5.0"
  }
 },
 "nbformat": 4,
 "nbformat_minor": 5
}
