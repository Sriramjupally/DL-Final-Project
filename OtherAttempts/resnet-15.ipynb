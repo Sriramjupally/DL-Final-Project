{
 "cells": [
  {
   "cell_type": "code",
   "execution_count": 1,
   "id": "0eaa8c2b",
   "metadata": {
    "execution": {
     "iopub.execute_input": "2024-04-17T11:31:02.675606Z",
     "iopub.status.busy": "2024-04-17T11:31:02.675281Z",
     "iopub.status.idle": "2024-04-17T11:31:13.151552Z",
     "shell.execute_reply": "2024-04-17T11:31:13.150353Z"
    },
    "papermill": {
     "duration": 10.485309,
     "end_time": "2024-04-17T11:31:13.154139",
     "exception": false,
     "start_time": "2024-04-17T11:31:02.668830",
     "status": "completed"
    },
    "tags": []
   },
   "outputs": [],
   "source": [
    "import torch\n",
    "import torch.nn as nn\n",
    "import torchvision\n",
    "from torchvision import datasets, transforms, models\n",
    "# import torchvision.models as models\n",
    "import torch.nn.functional as F\n",
    "import torch.optim as optim\n",
    "from tqdm import tqdm"
   ]
  },
  {
   "cell_type": "code",
   "execution_count": 2,
   "id": "1c4d07c1",
   "metadata": {
    "execution": {
     "iopub.execute_input": "2024-04-17T11:31:13.166706Z",
     "iopub.status.busy": "2024-04-17T11:31:13.165741Z",
     "iopub.status.idle": "2024-04-17T11:31:13.241285Z",
     "shell.execute_reply": "2024-04-17T11:31:13.240319Z"
    },
    "papermill": {
     "duration": 0.083677,
     "end_time": "2024-04-17T11:31:13.243473",
     "exception": false,
     "start_time": "2024-04-17T11:31:13.159796",
     "status": "completed"
    },
    "tags": []
   },
   "outputs": [],
   "source": [
    "device = torch.device('cuda' if torch.cuda.is_available() else 'cpu')"
   ]
  },
  {
   "cell_type": "code",
   "execution_count": 3,
   "id": "e4be71fd",
   "metadata": {
    "execution": {
     "iopub.execute_input": "2024-04-17T11:31:13.256312Z",
     "iopub.status.busy": "2024-04-17T11:31:13.255961Z",
     "iopub.status.idle": "2024-04-17T11:31:13.261348Z",
     "shell.execute_reply": "2024-04-17T11:31:13.260444Z"
    },
    "papermill": {
     "duration": 0.01449,
     "end_time": "2024-04-17T11:31:13.263570",
     "exception": false,
     "start_time": "2024-04-17T11:31:13.249080",
     "status": "completed"
    },
    "tags": []
   },
   "outputs": [],
   "source": [
    "transform = transforms.Compose([\n",
    "    transforms.Resize((64, 64)),  \n",
    "    transforms.ToTensor(),  \n",
    "    transforms.Normalize(mean=[0.5, 0.5, 0.5], std=[0.5, 0.5, 0.5])  \n",
    "])"
   ]
  },
  {
   "cell_type": "code",
   "execution_count": 4,
   "id": "490328e9",
   "metadata": {
    "execution": {
     "iopub.execute_input": "2024-04-17T11:31:13.275323Z",
     "iopub.status.busy": "2024-04-17T11:31:13.274762Z",
     "iopub.status.idle": "2024-04-17T11:31:13.848239Z",
     "shell.execute_reply": "2024-04-17T11:31:13.847221Z"
    },
    "papermill": {
     "duration": 0.581609,
     "end_time": "2024-04-17T11:31:13.850541",
     "exception": false,
     "start_time": "2024-04-17T11:31:13.268932",
     "status": "completed"
    },
    "tags": []
   },
   "outputs": [],
   "source": [
    "\n",
    "model = models.resnet50(weights= None)"
   ]
  },
  {
   "cell_type": "code",
   "execution_count": 5,
   "id": "5e683b10",
   "metadata": {
    "execution": {
     "iopub.execute_input": "2024-04-17T11:31:13.861714Z",
     "iopub.status.busy": "2024-04-17T11:31:13.861429Z",
     "iopub.status.idle": "2024-04-17T11:31:13.865168Z",
     "shell.execute_reply": "2024-04-17T11:31:13.864365Z"
    },
    "papermill": {
     "duration": 0.011473,
     "end_time": "2024-04-17T11:31:13.867141",
     "exception": false,
     "start_time": "2024-04-17T11:31:13.855668",
     "status": "completed"
    },
    "tags": []
   },
   "outputs": [],
   "source": [
    "# print(model)"
   ]
  },
  {
   "cell_type": "code",
   "execution_count": 6,
   "id": "f3b07340",
   "metadata": {
    "execution": {
     "iopub.execute_input": "2024-04-17T11:31:13.878119Z",
     "iopub.status.busy": "2024-04-17T11:31:13.877408Z",
     "iopub.status.idle": "2024-04-17T11:31:13.883107Z",
     "shell.execute_reply": "2024-04-17T11:31:13.882332Z"
    },
    "papermill": {
     "duration": 0.012978,
     "end_time": "2024-04-17T11:31:13.884902",
     "exception": false,
     "start_time": "2024-04-17T11:31:13.871924",
     "status": "completed"
    },
    "tags": []
   },
   "outputs": [],
   "source": [
    "model.fc = nn.Linear(2048,50)"
   ]
  },
  {
   "cell_type": "code",
   "execution_count": 7,
   "id": "2def4f64",
   "metadata": {
    "execution": {
     "iopub.execute_input": "2024-04-17T11:31:13.895806Z",
     "iopub.status.busy": "2024-04-17T11:31:13.895323Z",
     "iopub.status.idle": "2024-04-17T11:31:15.485216Z",
     "shell.execute_reply": "2024-04-17T11:31:15.484360Z"
    },
    "papermill": {
     "duration": 1.598296,
     "end_time": "2024-04-17T11:31:15.487895",
     "exception": false,
     "start_time": "2024-04-17T11:31:13.889599",
     "status": "completed"
    },
    "tags": []
   },
   "outputs": [
    {
     "data": {
      "text/plain": [
       "==========================================================================================\n",
       "Layer (type:depth-idx)                   Output Shape              Param #\n",
       "==========================================================================================\n",
       "ResNet                                   [32, 50]                  --\n",
       "├─Conv2d: 1-1                            [32, 64, 32, 32]          9,408\n",
       "├─BatchNorm2d: 1-2                       [32, 64, 32, 32]          128\n",
       "├─ReLU: 1-3                              [32, 64, 32, 32]          --\n",
       "├─MaxPool2d: 1-4                         [32, 64, 16, 16]          --\n",
       "├─Sequential: 1-5                        [32, 256, 16, 16]         --\n",
       "│    └─Bottleneck: 2-1                   [32, 256, 16, 16]         --\n",
       "│    │    └─Conv2d: 3-1                  [32, 64, 16, 16]          4,096\n",
       "│    │    └─BatchNorm2d: 3-2             [32, 64, 16, 16]          128\n",
       "│    │    └─ReLU: 3-3                    [32, 64, 16, 16]          --\n",
       "│    │    └─Conv2d: 3-4                  [32, 64, 16, 16]          36,864\n",
       "│    │    └─BatchNorm2d: 3-5             [32, 64, 16, 16]          128\n",
       "│    │    └─ReLU: 3-6                    [32, 64, 16, 16]          --\n",
       "│    │    └─Conv2d: 3-7                  [32, 256, 16, 16]         16,384\n",
       "│    │    └─BatchNorm2d: 3-8             [32, 256, 16, 16]         512\n",
       "│    │    └─Sequential: 3-9              [32, 256, 16, 16]         16,896\n",
       "│    │    └─ReLU: 3-10                   [32, 256, 16, 16]         --\n",
       "│    └─Bottleneck: 2-2                   [32, 256, 16, 16]         --\n",
       "│    │    └─Conv2d: 3-11                 [32, 64, 16, 16]          16,384\n",
       "│    │    └─BatchNorm2d: 3-12            [32, 64, 16, 16]          128\n",
       "│    │    └─ReLU: 3-13                   [32, 64, 16, 16]          --\n",
       "│    │    └─Conv2d: 3-14                 [32, 64, 16, 16]          36,864\n",
       "│    │    └─BatchNorm2d: 3-15            [32, 64, 16, 16]          128\n",
       "│    │    └─ReLU: 3-16                   [32, 64, 16, 16]          --\n",
       "│    │    └─Conv2d: 3-17                 [32, 256, 16, 16]         16,384\n",
       "│    │    └─BatchNorm2d: 3-18            [32, 256, 16, 16]         512\n",
       "│    │    └─ReLU: 3-19                   [32, 256, 16, 16]         --\n",
       "│    └─Bottleneck: 2-3                   [32, 256, 16, 16]         --\n",
       "│    │    └─Conv2d: 3-20                 [32, 64, 16, 16]          16,384\n",
       "│    │    └─BatchNorm2d: 3-21            [32, 64, 16, 16]          128\n",
       "│    │    └─ReLU: 3-22                   [32, 64, 16, 16]          --\n",
       "│    │    └─Conv2d: 3-23                 [32, 64, 16, 16]          36,864\n",
       "│    │    └─BatchNorm2d: 3-24            [32, 64, 16, 16]          128\n",
       "│    │    └─ReLU: 3-25                   [32, 64, 16, 16]          --\n",
       "│    │    └─Conv2d: 3-26                 [32, 256, 16, 16]         16,384\n",
       "│    │    └─BatchNorm2d: 3-27            [32, 256, 16, 16]         512\n",
       "│    │    └─ReLU: 3-28                   [32, 256, 16, 16]         --\n",
       "├─Sequential: 1-6                        [32, 512, 8, 8]           --\n",
       "│    └─Bottleneck: 2-4                   [32, 512, 8, 8]           --\n",
       "│    │    └─Conv2d: 3-29                 [32, 128, 16, 16]         32,768\n",
       "│    │    └─BatchNorm2d: 3-30            [32, 128, 16, 16]         256\n",
       "│    │    └─ReLU: 3-31                   [32, 128, 16, 16]         --\n",
       "│    │    └─Conv2d: 3-32                 [32, 128, 8, 8]           147,456\n",
       "│    │    └─BatchNorm2d: 3-33            [32, 128, 8, 8]           256\n",
       "│    │    └─ReLU: 3-34                   [32, 128, 8, 8]           --\n",
       "│    │    └─Conv2d: 3-35                 [32, 512, 8, 8]           65,536\n",
       "│    │    └─BatchNorm2d: 3-36            [32, 512, 8, 8]           1,024\n",
       "│    │    └─Sequential: 3-37             [32, 512, 8, 8]           132,096\n",
       "│    │    └─ReLU: 3-38                   [32, 512, 8, 8]           --\n",
       "│    └─Bottleneck: 2-5                   [32, 512, 8, 8]           --\n",
       "│    │    └─Conv2d: 3-39                 [32, 128, 8, 8]           65,536\n",
       "│    │    └─BatchNorm2d: 3-40            [32, 128, 8, 8]           256\n",
       "│    │    └─ReLU: 3-41                   [32, 128, 8, 8]           --\n",
       "│    │    └─Conv2d: 3-42                 [32, 128, 8, 8]           147,456\n",
       "│    │    └─BatchNorm2d: 3-43            [32, 128, 8, 8]           256\n",
       "│    │    └─ReLU: 3-44                   [32, 128, 8, 8]           --\n",
       "│    │    └─Conv2d: 3-45                 [32, 512, 8, 8]           65,536\n",
       "│    │    └─BatchNorm2d: 3-46            [32, 512, 8, 8]           1,024\n",
       "│    │    └─ReLU: 3-47                   [32, 512, 8, 8]           --\n",
       "│    └─Bottleneck: 2-6                   [32, 512, 8, 8]           --\n",
       "│    │    └─Conv2d: 3-48                 [32, 128, 8, 8]           65,536\n",
       "│    │    └─BatchNorm2d: 3-49            [32, 128, 8, 8]           256\n",
       "│    │    └─ReLU: 3-50                   [32, 128, 8, 8]           --\n",
       "│    │    └─Conv2d: 3-51                 [32, 128, 8, 8]           147,456\n",
       "│    │    └─BatchNorm2d: 3-52            [32, 128, 8, 8]           256\n",
       "│    │    └─ReLU: 3-53                   [32, 128, 8, 8]           --\n",
       "│    │    └─Conv2d: 3-54                 [32, 512, 8, 8]           65,536\n",
       "│    │    └─BatchNorm2d: 3-55            [32, 512, 8, 8]           1,024\n",
       "│    │    └─ReLU: 3-56                   [32, 512, 8, 8]           --\n",
       "│    └─Bottleneck: 2-7                   [32, 512, 8, 8]           --\n",
       "│    │    └─Conv2d: 3-57                 [32, 128, 8, 8]           65,536\n",
       "│    │    └─BatchNorm2d: 3-58            [32, 128, 8, 8]           256\n",
       "│    │    └─ReLU: 3-59                   [32, 128, 8, 8]           --\n",
       "│    │    └─Conv2d: 3-60                 [32, 128, 8, 8]           147,456\n",
       "│    │    └─BatchNorm2d: 3-61            [32, 128, 8, 8]           256\n",
       "│    │    └─ReLU: 3-62                   [32, 128, 8, 8]           --\n",
       "│    │    └─Conv2d: 3-63                 [32, 512, 8, 8]           65,536\n",
       "│    │    └─BatchNorm2d: 3-64            [32, 512, 8, 8]           1,024\n",
       "│    │    └─ReLU: 3-65                   [32, 512, 8, 8]           --\n",
       "├─Sequential: 1-7                        [32, 1024, 4, 4]          --\n",
       "│    └─Bottleneck: 2-8                   [32, 1024, 4, 4]          --\n",
       "│    │    └─Conv2d: 3-66                 [32, 256, 8, 8]           131,072\n",
       "│    │    └─BatchNorm2d: 3-67            [32, 256, 8, 8]           512\n",
       "│    │    └─ReLU: 3-68                   [32, 256, 8, 8]           --\n",
       "│    │    └─Conv2d: 3-69                 [32, 256, 4, 4]           589,824\n",
       "│    │    └─BatchNorm2d: 3-70            [32, 256, 4, 4]           512\n",
       "│    │    └─ReLU: 3-71                   [32, 256, 4, 4]           --\n",
       "│    │    └─Conv2d: 3-72                 [32, 1024, 4, 4]          262,144\n",
       "│    │    └─BatchNorm2d: 3-73            [32, 1024, 4, 4]          2,048\n",
       "│    │    └─Sequential: 3-74             [32, 1024, 4, 4]          526,336\n",
       "│    │    └─ReLU: 3-75                   [32, 1024, 4, 4]          --\n",
       "│    └─Bottleneck: 2-9                   [32, 1024, 4, 4]          --\n",
       "│    │    └─Conv2d: 3-76                 [32, 256, 4, 4]           262,144\n",
       "│    │    └─BatchNorm2d: 3-77            [32, 256, 4, 4]           512\n",
       "│    │    └─ReLU: 3-78                   [32, 256, 4, 4]           --\n",
       "│    │    └─Conv2d: 3-79                 [32, 256, 4, 4]           589,824\n",
       "│    │    └─BatchNorm2d: 3-80            [32, 256, 4, 4]           512\n",
       "│    │    └─ReLU: 3-81                   [32, 256, 4, 4]           --\n",
       "│    │    └─Conv2d: 3-82                 [32, 1024, 4, 4]          262,144\n",
       "│    │    └─BatchNorm2d: 3-83            [32, 1024, 4, 4]          2,048\n",
       "│    │    └─ReLU: 3-84                   [32, 1024, 4, 4]          --\n",
       "│    └─Bottleneck: 2-10                  [32, 1024, 4, 4]          --\n",
       "│    │    └─Conv2d: 3-85                 [32, 256, 4, 4]           262,144\n",
       "│    │    └─BatchNorm2d: 3-86            [32, 256, 4, 4]           512\n",
       "│    │    └─ReLU: 3-87                   [32, 256, 4, 4]           --\n",
       "│    │    └─Conv2d: 3-88                 [32, 256, 4, 4]           589,824\n",
       "│    │    └─BatchNorm2d: 3-89            [32, 256, 4, 4]           512\n",
       "│    │    └─ReLU: 3-90                   [32, 256, 4, 4]           --\n",
       "│    │    └─Conv2d: 3-91                 [32, 1024, 4, 4]          262,144\n",
       "│    │    └─BatchNorm2d: 3-92            [32, 1024, 4, 4]          2,048\n",
       "│    │    └─ReLU: 3-93                   [32, 1024, 4, 4]          --\n",
       "│    └─Bottleneck: 2-11                  [32, 1024, 4, 4]          --\n",
       "│    │    └─Conv2d: 3-94                 [32, 256, 4, 4]           262,144\n",
       "│    │    └─BatchNorm2d: 3-95            [32, 256, 4, 4]           512\n",
       "│    │    └─ReLU: 3-96                   [32, 256, 4, 4]           --\n",
       "│    │    └─Conv2d: 3-97                 [32, 256, 4, 4]           589,824\n",
       "│    │    └─BatchNorm2d: 3-98            [32, 256, 4, 4]           512\n",
       "│    │    └─ReLU: 3-99                   [32, 256, 4, 4]           --\n",
       "│    │    └─Conv2d: 3-100                [32, 1024, 4, 4]          262,144\n",
       "│    │    └─BatchNorm2d: 3-101           [32, 1024, 4, 4]          2,048\n",
       "│    │    └─ReLU: 3-102                  [32, 1024, 4, 4]          --\n",
       "│    └─Bottleneck: 2-12                  [32, 1024, 4, 4]          --\n",
       "│    │    └─Conv2d: 3-103                [32, 256, 4, 4]           262,144\n",
       "│    │    └─BatchNorm2d: 3-104           [32, 256, 4, 4]           512\n",
       "│    │    └─ReLU: 3-105                  [32, 256, 4, 4]           --\n",
       "│    │    └─Conv2d: 3-106                [32, 256, 4, 4]           589,824\n",
       "│    │    └─BatchNorm2d: 3-107           [32, 256, 4, 4]           512\n",
       "│    │    └─ReLU: 3-108                  [32, 256, 4, 4]           --\n",
       "│    │    └─Conv2d: 3-109                [32, 1024, 4, 4]          262,144\n",
       "│    │    └─BatchNorm2d: 3-110           [32, 1024, 4, 4]          2,048\n",
       "│    │    └─ReLU: 3-111                  [32, 1024, 4, 4]          --\n",
       "│    └─Bottleneck: 2-13                  [32, 1024, 4, 4]          --\n",
       "│    │    └─Conv2d: 3-112                [32, 256, 4, 4]           262,144\n",
       "│    │    └─BatchNorm2d: 3-113           [32, 256, 4, 4]           512\n",
       "│    │    └─ReLU: 3-114                  [32, 256, 4, 4]           --\n",
       "│    │    └─Conv2d: 3-115                [32, 256, 4, 4]           589,824\n",
       "│    │    └─BatchNorm2d: 3-116           [32, 256, 4, 4]           512\n",
       "│    │    └─ReLU: 3-117                  [32, 256, 4, 4]           --\n",
       "│    │    └─Conv2d: 3-118                [32, 1024, 4, 4]          262,144\n",
       "│    │    └─BatchNorm2d: 3-119           [32, 1024, 4, 4]          2,048\n",
       "│    │    └─ReLU: 3-120                  [32, 1024, 4, 4]          --\n",
       "├─Sequential: 1-8                        [32, 2048, 2, 2]          --\n",
       "│    └─Bottleneck: 2-14                  [32, 2048, 2, 2]          --\n",
       "│    │    └─Conv2d: 3-121                [32, 512, 4, 4]           524,288\n",
       "│    │    └─BatchNorm2d: 3-122           [32, 512, 4, 4]           1,024\n",
       "│    │    └─ReLU: 3-123                  [32, 512, 4, 4]           --\n",
       "│    │    └─Conv2d: 3-124                [32, 512, 2, 2]           2,359,296\n",
       "│    │    └─BatchNorm2d: 3-125           [32, 512, 2, 2]           1,024\n",
       "│    │    └─ReLU: 3-126                  [32, 512, 2, 2]           --\n",
       "│    │    └─Conv2d: 3-127                [32, 2048, 2, 2]          1,048,576\n",
       "│    │    └─BatchNorm2d: 3-128           [32, 2048, 2, 2]          4,096\n",
       "│    │    └─Sequential: 3-129            [32, 2048, 2, 2]          2,101,248\n",
       "│    │    └─ReLU: 3-130                  [32, 2048, 2, 2]          --\n",
       "│    └─Bottleneck: 2-15                  [32, 2048, 2, 2]          --\n",
       "│    │    └─Conv2d: 3-131                [32, 512, 2, 2]           1,048,576\n",
       "│    │    └─BatchNorm2d: 3-132           [32, 512, 2, 2]           1,024\n",
       "│    │    └─ReLU: 3-133                  [32, 512, 2, 2]           --\n",
       "│    │    └─Conv2d: 3-134                [32, 512, 2, 2]           2,359,296\n",
       "│    │    └─BatchNorm2d: 3-135           [32, 512, 2, 2]           1,024\n",
       "│    │    └─ReLU: 3-136                  [32, 512, 2, 2]           --\n",
       "│    │    └─Conv2d: 3-137                [32, 2048, 2, 2]          1,048,576\n",
       "│    │    └─BatchNorm2d: 3-138           [32, 2048, 2, 2]          4,096\n",
       "│    │    └─ReLU: 3-139                  [32, 2048, 2, 2]          --\n",
       "│    └─Bottleneck: 2-16                  [32, 2048, 2, 2]          --\n",
       "│    │    └─Conv2d: 3-140                [32, 512, 2, 2]           1,048,576\n",
       "│    │    └─BatchNorm2d: 3-141           [32, 512, 2, 2]           1,024\n",
       "│    │    └─ReLU: 3-142                  [32, 512, 2, 2]           --\n",
       "│    │    └─Conv2d: 3-143                [32, 512, 2, 2]           2,359,296\n",
       "│    │    └─BatchNorm2d: 3-144           [32, 512, 2, 2]           1,024\n",
       "│    │    └─ReLU: 3-145                  [32, 512, 2, 2]           --\n",
       "│    │    └─Conv2d: 3-146                [32, 2048, 2, 2]          1,048,576\n",
       "│    │    └─BatchNorm2d: 3-147           [32, 2048, 2, 2]          4,096\n",
       "│    │    └─ReLU: 3-148                  [32, 2048, 2, 2]          --\n",
       "├─AdaptiveAvgPool2d: 1-9                 [32, 2048, 1, 1]          --\n",
       "├─Linear: 1-10                           [32, 50]                  102,450\n",
       "==========================================================================================\n",
       "Total params: 23,610,482\n",
       "Trainable params: 23,610,482\n",
       "Non-trainable params: 0\n",
       "Total mult-adds (G): 10.68\n",
       "==========================================================================================\n",
       "Input size (MB): 1.57\n",
       "Forward/backward pass size (MB): 464.53\n",
       "Params size (MB): 94.44\n",
       "Estimated Total Size (MB): 560.55\n",
       "=========================================================================================="
      ]
     },
     "execution_count": 7,
     "metadata": {},
     "output_type": "execute_result"
    }
   ],
   "source": [
    "import torchinfo\n",
    "\n",
    "torchinfo.summary(model, (32, 3,64,64))"
   ]
  },
  {
   "cell_type": "code",
   "execution_count": 8,
   "id": "419194c3",
   "metadata": {
    "execution": {
     "iopub.execute_input": "2024-04-17T11:31:15.499912Z",
     "iopub.status.busy": "2024-04-17T11:31:15.499626Z",
     "iopub.status.idle": "2024-04-17T11:32:06.373344Z",
     "shell.execute_reply": "2024-04-17T11:32:06.372316Z"
    },
    "papermill": {
     "duration": 50.882533,
     "end_time": "2024-04-17T11:32:06.375892",
     "exception": false,
     "start_time": "2024-04-17T11:31:15.493359",
     "status": "completed"
    },
    "tags": []
   },
   "outputs": [],
   "source": [
    "train_dir = '/kaggle/input/iith-dl-contest-2024/train/train'\n",
    "train_data  = datasets.ImageFolder(train_dir, transform = transform)\n",
    "train_loader = torch.utils.data.DataLoader(train_data, batch_size=32, shuffle=True)"
   ]
  },
  {
   "cell_type": "code",
   "execution_count": 9,
   "id": "7624f1fe",
   "metadata": {
    "execution": {
     "iopub.execute_input": "2024-04-17T11:32:06.388668Z",
     "iopub.status.busy": "2024-04-17T11:32:06.388360Z",
     "iopub.status.idle": "2024-04-17T11:32:06.394474Z",
     "shell.execute_reply": "2024-04-17T11:32:06.393292Z"
    },
    "papermill": {
     "duration": 0.014015,
     "end_time": "2024-04-17T11:32:06.395971",
     "exception": true,
     "start_time": "2024-04-17T11:32:06.381956",
     "status": "failed"
    },
    "tags": []
   },
   "outputs": [
    {
     "ename": "SyntaxError",
     "evalue": "invalid syntax (2863026206.py, line 1)",
     "output_type": "error",
     "traceback": [
      "\u001b[0;36m  Cell \u001b[0;32mIn[9], line 1\u001b[0;36m\u001b[0m\n\u001b[0;31m    model = model.load_state_dict(torch.load(/kaggle/input/resnet50/weights16.pth))\u001b[0m\n\u001b[0m                                             ^\u001b[0m\n\u001b[0;31mSyntaxError\u001b[0m\u001b[0;31m:\u001b[0m invalid syntax\n"
     ]
    }
   ],
   "source": [
    "model = model.load_state_dict(torch.load(/kaggle/input/resnet50/weights16.pth))"
   ]
  },
  {
   "cell_type": "code",
   "execution_count": null,
   "id": "faaa1264",
   "metadata": {
    "execution": {
     "iopub.execute_input": "2024-04-17T05:30:48.903445Z",
     "iopub.status.busy": "2024-04-17T05:30:48.902719Z",
     "iopub.status.idle": "2024-04-17T05:31:34.128189Z",
     "shell.execute_reply": "2024-04-17T05:31:34.127390Z",
     "shell.execute_reply.started": "2024-04-17T05:30:48.903413Z"
    },
    "papermill": {
     "duration": null,
     "end_time": null,
     "exception": null,
     "start_time": null,
     "status": "pending"
    },
    "tags": []
   },
   "outputs": [],
   "source": [
    "test_dir = '/kaggle/input/iith-dl-contest-2024/test'\n",
    "test_data  = datasets.ImageFolder(test_dir, transform = transform)\n",
    "test_loader = torch.utils.data.DataLoader(test_data, batch_size=32, shuffle=False)"
   ]
  },
  {
   "cell_type": "code",
   "execution_count": null,
   "id": "715aeb09",
   "metadata": {
    "execution": {
     "iopub.execute_input": "2024-04-17T05:32:12.289757Z",
     "iopub.status.busy": "2024-04-17T05:32:12.289428Z",
     "iopub.status.idle": "2024-04-17T05:32:12.294224Z",
     "shell.execute_reply": "2024-04-17T05:32:12.293238Z",
     "shell.execute_reply.started": "2024-04-17T05:32:12.289732Z"
    },
    "papermill": {
     "duration": null,
     "end_time": null,
     "exception": null,
     "start_time": null,
     "status": "pending"
    },
    "tags": []
   },
   "outputs": [],
   "source": [
    "import numpy as np\n",
    "import csv"
   ]
  },
  {
   "cell_type": "code",
   "execution_count": null,
   "id": "f982510e",
   "metadata": {
    "execution": {
     "iopub.execute_input": "2024-04-17T05:32:15.371012Z",
     "iopub.status.busy": "2024-04-17T05:32:15.370631Z",
     "iopub.status.idle": "2024-04-17T05:32:15.375756Z",
     "shell.execute_reply": "2024-04-17T05:32:15.374730Z",
     "shell.execute_reply.started": "2024-04-17T05:32:15.370983Z"
    },
    "papermill": {
     "duration": null,
     "end_time": null,
     "exception": null,
     "start_time": null,
     "status": "pending"
    },
    "tags": []
   },
   "outputs": [],
   "source": [
    "# Reverse the class to index mapping to index to class for prediction interpretation\n",
    "classes = train_data.class_to_idx\n",
    "idx_to_class = {idx: class_name for class_name, idx in classes.items()}"
   ]
  },
  {
   "cell_type": "code",
   "execution_count": null,
   "id": "454d2c25",
   "metadata": {
    "execution": {
     "iopub.execute_input": "2024-04-17T05:32:18.551224Z",
     "iopub.status.busy": "2024-04-17T05:32:18.550772Z",
     "iopub.status.idle": "2024-04-17T05:37:06.913798Z",
     "shell.execute_reply": "2024-04-17T05:37:06.912922Z",
     "shell.execute_reply.started": "2024-04-17T05:32:18.551187Z"
    },
    "papermill": {
     "duration": null,
     "end_time": null,
     "exception": null,
     "start_time": null,
     "status": "pending"
    },
    "tags": []
   },
   "outputs": [],
   "source": [
    "# List to store outputs\n",
    "outputs_list = []\n",
    "\n",
    "# Process images and gather predictions\n",
    "for images, _ in tqdm(test_loader):\n",
    "    images = images.to(device)\n",
    "    outputs = model(images)\n",
    "    _, predicted = torch.max(outputs, dim=1)\n",
    "    outputs_list.append(predicted)\n",
    "\n",
    "# Concatenate all predictions into a single tensor\n",
    "outputs = torch.cat(outputs_list).cpu().numpy()"
   ]
  },
  {
   "cell_type": "code",
   "execution_count": null,
   "id": "10e517a2",
   "metadata": {
    "execution": {
     "iopub.execute_input": "2024-04-17T05:37:13.210114Z",
     "iopub.status.busy": "2024-04-17T05:37:13.209747Z",
     "iopub.status.idle": "2024-04-17T05:37:13.253878Z",
     "shell.execute_reply": "2024-04-17T05:37:13.253153Z",
     "shell.execute_reply.started": "2024-04-17T05:37:13.210086Z"
    },
    "papermill": {
     "duration": null,
     "end_time": null,
     "exception": null,
     "start_time": null,
     "status": "pending"
    },
    "tags": []
   },
   "outputs": [],
   "source": [
    "import numpy as np\n",
    "\n",
    "# Convert class indices to class names\n",
    "predicted_classes = np.array([idx_to_class[idx] for idx in outputs], dtype=object)\n",
    "\n",
    "# Generate image file names\n",
    "file_names = [f\"{i}.JPEG\" for i in range(len(predicted_classes))]\n",
    "\n",
    "file_names = np.sort(file_names)"
   ]
  },
  {
   "cell_type": "code",
   "execution_count": null,
   "id": "cc60f548",
   "metadata": {
    "execution": {
     "iopub.execute_input": "2024-04-17T05:37:16.655951Z",
     "iopub.status.busy": "2024-04-17T05:37:16.655565Z",
     "iopub.status.idle": "2024-04-17T05:37:16.663809Z",
     "shell.execute_reply": "2024-04-17T05:37:16.662900Z",
     "shell.execute_reply.started": "2024-04-17T05:37:16.655883Z"
    },
    "papermill": {
     "duration": null,
     "end_time": null,
     "exception": null,
     "start_time": null,
     "status": "pending"
    },
    "tags": []
   },
   "outputs": [],
   "source": [
    "# Combine file names and predicted classes\n",
    "table = np.column_stack((file_names, predicted_classes))\n",
    "\n",
    "# Print table (optional, can be commented out in production)\n",
    "print(table)"
   ]
  },
  {
   "cell_type": "code",
   "execution_count": null,
   "id": "6f3f5910",
   "metadata": {
    "execution": {
     "iopub.execute_input": "2024-04-17T05:37:20.473750Z",
     "iopub.status.busy": "2024-04-17T05:37:20.473104Z",
     "iopub.status.idle": "2024-04-17T05:37:20.558649Z",
     "shell.execute_reply": "2024-04-17T05:37:20.557913Z",
     "shell.execute_reply.started": "2024-04-17T05:37:20.473717Z"
    },
    "papermill": {
     "duration": null,
     "end_time": null,
     "exception": null,
     "start_time": null,
     "status": "pending"
    },
    "tags": []
   },
   "outputs": [],
   "source": [
    "# Write results to CSV file\n",
    "with open('submission1.csv', 'w', newline='') as file:\n",
    "    wr = csv.writer(file)\n",
    "    wr.writerow(['ID', 'Category'])\n",
    "    wr.writerows(table)"
   ]
  }
 ],
 "metadata": {
  "kaggle": {
   "accelerator": "nvidiaTeslaT4",
   "dataSources": [
    {
     "databundleVersionId": 8040143,
     "sourceId": 73111,
     "sourceType": "competition"
    },
    {
     "sourceId": 172445321,
     "sourceType": "kernelVersion"
    }
   ],
   "isGpuEnabled": true,
   "isInternetEnabled": true,
   "language": "python",
   "sourceType": "notebook"
  },
  "kernelspec": {
   "display_name": "Python 3",
   "language": "python",
   "name": "python3"
  },
  "language_info": {
   "codemirror_mode": {
    "name": "ipython",
    "version": 3
   },
   "file_extension": ".py",
   "mimetype": "text/x-python",
   "name": "python",
   "nbconvert_exporter": "python",
   "pygments_lexer": "ipython3",
   "version": "3.10.13"
  },
  "papermill": {
   "default_parameters": {},
   "duration": 70.00078,
   "end_time": "2024-04-17T11:32:08.836799",
   "environment_variables": {},
   "exception": true,
   "input_path": "__notebook__.ipynb",
   "output_path": "__notebook__.ipynb",
   "parameters": {},
   "start_time": "2024-04-17T11:30:58.836019",
   "version": "2.5.0"
  }
 },
 "nbformat": 4,
 "nbformat_minor": 5
}
