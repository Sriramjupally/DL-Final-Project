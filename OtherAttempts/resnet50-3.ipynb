{
 "cells": [
  {
   "cell_type": "code",
   "execution_count": 1,
   "id": "7322ca1b",
   "metadata": {
    "execution": {
     "iopub.execute_input": "2024-04-17T08:20:05.034877Z",
     "iopub.status.busy": "2024-04-17T08:20:05.034272Z",
     "iopub.status.idle": "2024-04-17T08:20:11.900725Z",
     "shell.execute_reply": "2024-04-17T08:20:11.899796Z"
    },
    "papermill": {
     "duration": 6.87529,
     "end_time": "2024-04-17T08:20:11.903096",
     "exception": false,
     "start_time": "2024-04-17T08:20:05.027806",
     "status": "completed"
    },
    "tags": []
   },
   "outputs": [],
   "source": [
    "import torch\n",
    "import torch.nn as nn\n",
    "import torchvision\n",
    "from torchvision import datasets, transforms, models\n",
    "# import torchvision.models as models\n",
    "import torch.nn.functional as F\n",
    "import torch.optim as optim\n",
    "from tqdm import tqdm"
   ]
  },
  {
   "cell_type": "code",
   "execution_count": 2,
   "id": "dcc57a99",
   "metadata": {
    "execution": {
     "iopub.execute_input": "2024-04-17T08:20:11.914718Z",
     "iopub.status.busy": "2024-04-17T08:20:11.914173Z",
     "iopub.status.idle": "2024-04-17T08:20:11.987284Z",
     "shell.execute_reply": "2024-04-17T08:20:11.986310Z"
    },
    "papermill": {
     "duration": 0.080652,
     "end_time": "2024-04-17T08:20:11.989156",
     "exception": false,
     "start_time": "2024-04-17T08:20:11.908504",
     "status": "completed"
    },
    "tags": []
   },
   "outputs": [],
   "source": [
    "device = torch.device('cuda' if torch.cuda.is_available() else 'cpu')"
   ]
  },
  {
   "cell_type": "code",
   "execution_count": 3,
   "id": "1a96068d",
   "metadata": {
    "execution": {
     "iopub.execute_input": "2024-04-17T08:20:12.000745Z",
     "iopub.status.busy": "2024-04-17T08:20:12.000047Z",
     "iopub.status.idle": "2024-04-17T08:20:12.004860Z",
     "shell.execute_reply": "2024-04-17T08:20:12.004040Z"
    },
    "papermill": {
     "duration": 0.012719,
     "end_time": "2024-04-17T08:20:12.007007",
     "exception": false,
     "start_time": "2024-04-17T08:20:11.994288",
     "status": "completed"
    },
    "tags": []
   },
   "outputs": [],
   "source": [
    "transform = transforms.Compose([\n",
    "    transforms.Resize((64, 64)),  \n",
    "    transforms.ToTensor(),  \n",
    "    transforms.Normalize(mean=[0.5, 0.5, 0.5], std=[0.5, 0.5, 0.5])  \n",
    "])"
   ]
  },
  {
   "cell_type": "code",
   "execution_count": 4,
   "id": "95ddd2bc",
   "metadata": {
    "execution": {
     "iopub.execute_input": "2024-04-17T08:20:12.017585Z",
     "iopub.status.busy": "2024-04-17T08:20:12.017294Z",
     "iopub.status.idle": "2024-04-17T08:20:12.540018Z",
     "shell.execute_reply": "2024-04-17T08:20:12.538846Z"
    },
    "papermill": {
     "duration": 0.530768,
     "end_time": "2024-04-17T08:20:12.542521",
     "exception": false,
     "start_time": "2024-04-17T08:20:12.011753",
     "status": "completed"
    },
    "tags": []
   },
   "outputs": [],
   "source": [
    "\n",
    "model = models.resnet50(weights= None)"
   ]
  },
  {
   "cell_type": "code",
   "execution_count": 5,
   "id": "e301016f",
   "metadata": {
    "execution": {
     "iopub.execute_input": "2024-04-17T08:20:12.553426Z",
     "iopub.status.busy": "2024-04-17T08:20:12.553142Z",
     "iopub.status.idle": "2024-04-17T08:20:12.557152Z",
     "shell.execute_reply": "2024-04-17T08:20:12.556195Z"
    },
    "papermill": {
     "duration": 0.011329,
     "end_time": "2024-04-17T08:20:12.558980",
     "exception": false,
     "start_time": "2024-04-17T08:20:12.547651",
     "status": "completed"
    },
    "tags": []
   },
   "outputs": [],
   "source": [
    "# print(model)"
   ]
  },
  {
   "cell_type": "code",
   "execution_count": 6,
   "id": "f5c0eb5d",
   "metadata": {
    "execution": {
     "iopub.execute_input": "2024-04-17T08:20:12.569706Z",
     "iopub.status.busy": "2024-04-17T08:20:12.569406Z",
     "iopub.status.idle": "2024-04-17T08:20:12.575442Z",
     "shell.execute_reply": "2024-04-17T08:20:12.574624Z"
    },
    "papermill": {
     "duration": 0.013948,
     "end_time": "2024-04-17T08:20:12.577720",
     "exception": false,
     "start_time": "2024-04-17T08:20:12.563772",
     "status": "completed"
    },
    "tags": []
   },
   "outputs": [],
   "source": [
    "model.fc = nn.Linear(2048,50)"
   ]
  },
  {
   "cell_type": "code",
   "execution_count": 7,
   "id": "224c96b2",
   "metadata": {
    "execution": {
     "iopub.execute_input": "2024-04-17T08:20:12.588568Z",
     "iopub.status.busy": "2024-04-17T08:20:12.588275Z",
     "iopub.status.idle": "2024-04-17T08:20:13.598608Z",
     "shell.execute_reply": "2024-04-17T08:20:13.597706Z"
    },
    "papermill": {
     "duration": 1.018652,
     "end_time": "2024-04-17T08:20:13.601331",
     "exception": false,
     "start_time": "2024-04-17T08:20:12.582679",
     "status": "completed"
    },
    "tags": []
   },
   "outputs": [
    {
     "data": {
      "text/plain": [
       "==========================================================================================\n",
       "Layer (type:depth-idx)                   Output Shape              Param #\n",
       "==========================================================================================\n",
       "ResNet                                   [32, 50]                  --\n",
       "├─Conv2d: 1-1                            [32, 64, 32, 32]          9,408\n",
       "├─BatchNorm2d: 1-2                       [32, 64, 32, 32]          128\n",
       "├─ReLU: 1-3                              [32, 64, 32, 32]          --\n",
       "├─MaxPool2d: 1-4                         [32, 64, 16, 16]          --\n",
       "├─Sequential: 1-5                        [32, 256, 16, 16]         --\n",
       "│    └─Bottleneck: 2-1                   [32, 256, 16, 16]         --\n",
       "│    │    └─Conv2d: 3-1                  [32, 64, 16, 16]          4,096\n",
       "│    │    └─BatchNorm2d: 3-2             [32, 64, 16, 16]          128\n",
       "│    │    └─ReLU: 3-3                    [32, 64, 16, 16]          --\n",
       "│    │    └─Conv2d: 3-4                  [32, 64, 16, 16]          36,864\n",
       "│    │    └─BatchNorm2d: 3-5             [32, 64, 16, 16]          128\n",
       "│    │    └─ReLU: 3-6                    [32, 64, 16, 16]          --\n",
       "│    │    └─Conv2d: 3-7                  [32, 256, 16, 16]         16,384\n",
       "│    │    └─BatchNorm2d: 3-8             [32, 256, 16, 16]         512\n",
       "│    │    └─Sequential: 3-9              [32, 256, 16, 16]         16,896\n",
       "│    │    └─ReLU: 3-10                   [32, 256, 16, 16]         --\n",
       "│    └─Bottleneck: 2-2                   [32, 256, 16, 16]         --\n",
       "│    │    └─Conv2d: 3-11                 [32, 64, 16, 16]          16,384\n",
       "│    │    └─BatchNorm2d: 3-12            [32, 64, 16, 16]          128\n",
       "│    │    └─ReLU: 3-13                   [32, 64, 16, 16]          --\n",
       "│    │    └─Conv2d: 3-14                 [32, 64, 16, 16]          36,864\n",
       "│    │    └─BatchNorm2d: 3-15            [32, 64, 16, 16]          128\n",
       "│    │    └─ReLU: 3-16                   [32, 64, 16, 16]          --\n",
       "│    │    └─Conv2d: 3-17                 [32, 256, 16, 16]         16,384\n",
       "│    │    └─BatchNorm2d: 3-18            [32, 256, 16, 16]         512\n",
       "│    │    └─ReLU: 3-19                   [32, 256, 16, 16]         --\n",
       "│    └─Bottleneck: 2-3                   [32, 256, 16, 16]         --\n",
       "│    │    └─Conv2d: 3-20                 [32, 64, 16, 16]          16,384\n",
       "│    │    └─BatchNorm2d: 3-21            [32, 64, 16, 16]          128\n",
       "│    │    └─ReLU: 3-22                   [32, 64, 16, 16]          --\n",
       "│    │    └─Conv2d: 3-23                 [32, 64, 16, 16]          36,864\n",
       "│    │    └─BatchNorm2d: 3-24            [32, 64, 16, 16]          128\n",
       "│    │    └─ReLU: 3-25                   [32, 64, 16, 16]          --\n",
       "│    │    └─Conv2d: 3-26                 [32, 256, 16, 16]         16,384\n",
       "│    │    └─BatchNorm2d: 3-27            [32, 256, 16, 16]         512\n",
       "│    │    └─ReLU: 3-28                   [32, 256, 16, 16]         --\n",
       "├─Sequential: 1-6                        [32, 512, 8, 8]           --\n",
       "│    └─Bottleneck: 2-4                   [32, 512, 8, 8]           --\n",
       "│    │    └─Conv2d: 3-29                 [32, 128, 16, 16]         32,768\n",
       "│    │    └─BatchNorm2d: 3-30            [32, 128, 16, 16]         256\n",
       "│    │    └─ReLU: 3-31                   [32, 128, 16, 16]         --\n",
       "│    │    └─Conv2d: 3-32                 [32, 128, 8, 8]           147,456\n",
       "│    │    └─BatchNorm2d: 3-33            [32, 128, 8, 8]           256\n",
       "│    │    └─ReLU: 3-34                   [32, 128, 8, 8]           --\n",
       "│    │    └─Conv2d: 3-35                 [32, 512, 8, 8]           65,536\n",
       "│    │    └─BatchNorm2d: 3-36            [32, 512, 8, 8]           1,024\n",
       "│    │    └─Sequential: 3-37             [32, 512, 8, 8]           132,096\n",
       "│    │    └─ReLU: 3-38                   [32, 512, 8, 8]           --\n",
       "│    └─Bottleneck: 2-5                   [32, 512, 8, 8]           --\n",
       "│    │    └─Conv2d: 3-39                 [32, 128, 8, 8]           65,536\n",
       "│    │    └─BatchNorm2d: 3-40            [32, 128, 8, 8]           256\n",
       "│    │    └─ReLU: 3-41                   [32, 128, 8, 8]           --\n",
       "│    │    └─Conv2d: 3-42                 [32, 128, 8, 8]           147,456\n",
       "│    │    └─BatchNorm2d: 3-43            [32, 128, 8, 8]           256\n",
       "│    │    └─ReLU: 3-44                   [32, 128, 8, 8]           --\n",
       "│    │    └─Conv2d: 3-45                 [32, 512, 8, 8]           65,536\n",
       "│    │    └─BatchNorm2d: 3-46            [32, 512, 8, 8]           1,024\n",
       "│    │    └─ReLU: 3-47                   [32, 512, 8, 8]           --\n",
       "│    └─Bottleneck: 2-6                   [32, 512, 8, 8]           --\n",
       "│    │    └─Conv2d: 3-48                 [32, 128, 8, 8]           65,536\n",
       "│    │    └─BatchNorm2d: 3-49            [32, 128, 8, 8]           256\n",
       "│    │    └─ReLU: 3-50                   [32, 128, 8, 8]           --\n",
       "│    │    └─Conv2d: 3-51                 [32, 128, 8, 8]           147,456\n",
       "│    │    └─BatchNorm2d: 3-52            [32, 128, 8, 8]           256\n",
       "│    │    └─ReLU: 3-53                   [32, 128, 8, 8]           --\n",
       "│    │    └─Conv2d: 3-54                 [32, 512, 8, 8]           65,536\n",
       "│    │    └─BatchNorm2d: 3-55            [32, 512, 8, 8]           1,024\n",
       "│    │    └─ReLU: 3-56                   [32, 512, 8, 8]           --\n",
       "│    └─Bottleneck: 2-7                   [32, 512, 8, 8]           --\n",
       "│    │    └─Conv2d: 3-57                 [32, 128, 8, 8]           65,536\n",
       "│    │    └─BatchNorm2d: 3-58            [32, 128, 8, 8]           256\n",
       "│    │    └─ReLU: 3-59                   [32, 128, 8, 8]           --\n",
       "│    │    └─Conv2d: 3-60                 [32, 128, 8, 8]           147,456\n",
       "│    │    └─BatchNorm2d: 3-61            [32, 128, 8, 8]           256\n",
       "│    │    └─ReLU: 3-62                   [32, 128, 8, 8]           --\n",
       "│    │    └─Conv2d: 3-63                 [32, 512, 8, 8]           65,536\n",
       "│    │    └─BatchNorm2d: 3-64            [32, 512, 8, 8]           1,024\n",
       "│    │    └─ReLU: 3-65                   [32, 512, 8, 8]           --\n",
       "├─Sequential: 1-7                        [32, 1024, 4, 4]          --\n",
       "│    └─Bottleneck: 2-8                   [32, 1024, 4, 4]          --\n",
       "│    │    └─Conv2d: 3-66                 [32, 256, 8, 8]           131,072\n",
       "│    │    └─BatchNorm2d: 3-67            [32, 256, 8, 8]           512\n",
       "│    │    └─ReLU: 3-68                   [32, 256, 8, 8]           --\n",
       "│    │    └─Conv2d: 3-69                 [32, 256, 4, 4]           589,824\n",
       "│    │    └─BatchNorm2d: 3-70            [32, 256, 4, 4]           512\n",
       "│    │    └─ReLU: 3-71                   [32, 256, 4, 4]           --\n",
       "│    │    └─Conv2d: 3-72                 [32, 1024, 4, 4]          262,144\n",
       "│    │    └─BatchNorm2d: 3-73            [32, 1024, 4, 4]          2,048\n",
       "│    │    └─Sequential: 3-74             [32, 1024, 4, 4]          526,336\n",
       "│    │    └─ReLU: 3-75                   [32, 1024, 4, 4]          --\n",
       "│    └─Bottleneck: 2-9                   [32, 1024, 4, 4]          --\n",
       "│    │    └─Conv2d: 3-76                 [32, 256, 4, 4]           262,144\n",
       "│    │    └─BatchNorm2d: 3-77            [32, 256, 4, 4]           512\n",
       "│    │    └─ReLU: 3-78                   [32, 256, 4, 4]           --\n",
       "│    │    └─Conv2d: 3-79                 [32, 256, 4, 4]           589,824\n",
       "│    │    └─BatchNorm2d: 3-80            [32, 256, 4, 4]           512\n",
       "│    │    └─ReLU: 3-81                   [32, 256, 4, 4]           --\n",
       "│    │    └─Conv2d: 3-82                 [32, 1024, 4, 4]          262,144\n",
       "│    │    └─BatchNorm2d: 3-83            [32, 1024, 4, 4]          2,048\n",
       "│    │    └─ReLU: 3-84                   [32, 1024, 4, 4]          --\n",
       "│    └─Bottleneck: 2-10                  [32, 1024, 4, 4]          --\n",
       "│    │    └─Conv2d: 3-85                 [32, 256, 4, 4]           262,144\n",
       "│    │    └─BatchNorm2d: 3-86            [32, 256, 4, 4]           512\n",
       "│    │    └─ReLU: 3-87                   [32, 256, 4, 4]           --\n",
       "│    │    └─Conv2d: 3-88                 [32, 256, 4, 4]           589,824\n",
       "│    │    └─BatchNorm2d: 3-89            [32, 256, 4, 4]           512\n",
       "│    │    └─ReLU: 3-90                   [32, 256, 4, 4]           --\n",
       "│    │    └─Conv2d: 3-91                 [32, 1024, 4, 4]          262,144\n",
       "│    │    └─BatchNorm2d: 3-92            [32, 1024, 4, 4]          2,048\n",
       "│    │    └─ReLU: 3-93                   [32, 1024, 4, 4]          --\n",
       "│    └─Bottleneck: 2-11                  [32, 1024, 4, 4]          --\n",
       "│    │    └─Conv2d: 3-94                 [32, 256, 4, 4]           262,144\n",
       "│    │    └─BatchNorm2d: 3-95            [32, 256, 4, 4]           512\n",
       "│    │    └─ReLU: 3-96                   [32, 256, 4, 4]           --\n",
       "│    │    └─Conv2d: 3-97                 [32, 256, 4, 4]           589,824\n",
       "│    │    └─BatchNorm2d: 3-98            [32, 256, 4, 4]           512\n",
       "│    │    └─ReLU: 3-99                   [32, 256, 4, 4]           --\n",
       "│    │    └─Conv2d: 3-100                [32, 1024, 4, 4]          262,144\n",
       "│    │    └─BatchNorm2d: 3-101           [32, 1024, 4, 4]          2,048\n",
       "│    │    └─ReLU: 3-102                  [32, 1024, 4, 4]          --\n",
       "│    └─Bottleneck: 2-12                  [32, 1024, 4, 4]          --\n",
       "│    │    └─Conv2d: 3-103                [32, 256, 4, 4]           262,144\n",
       "│    │    └─BatchNorm2d: 3-104           [32, 256, 4, 4]           512\n",
       "│    │    └─ReLU: 3-105                  [32, 256, 4, 4]           --\n",
       "│    │    └─Conv2d: 3-106                [32, 256, 4, 4]           589,824\n",
       "│    │    └─BatchNorm2d: 3-107           [32, 256, 4, 4]           512\n",
       "│    │    └─ReLU: 3-108                  [32, 256, 4, 4]           --\n",
       "│    │    └─Conv2d: 3-109                [32, 1024, 4, 4]          262,144\n",
       "│    │    └─BatchNorm2d: 3-110           [32, 1024, 4, 4]          2,048\n",
       "│    │    └─ReLU: 3-111                  [32, 1024, 4, 4]          --\n",
       "│    └─Bottleneck: 2-13                  [32, 1024, 4, 4]          --\n",
       "│    │    └─Conv2d: 3-112                [32, 256, 4, 4]           262,144\n",
       "│    │    └─BatchNorm2d: 3-113           [32, 256, 4, 4]           512\n",
       "│    │    └─ReLU: 3-114                  [32, 256, 4, 4]           --\n",
       "│    │    └─Conv2d: 3-115                [32, 256, 4, 4]           589,824\n",
       "│    │    └─BatchNorm2d: 3-116           [32, 256, 4, 4]           512\n",
       "│    │    └─ReLU: 3-117                  [32, 256, 4, 4]           --\n",
       "│    │    └─Conv2d: 3-118                [32, 1024, 4, 4]          262,144\n",
       "│    │    └─BatchNorm2d: 3-119           [32, 1024, 4, 4]          2,048\n",
       "│    │    └─ReLU: 3-120                  [32, 1024, 4, 4]          --\n",
       "├─Sequential: 1-8                        [32, 2048, 2, 2]          --\n",
       "│    └─Bottleneck: 2-14                  [32, 2048, 2, 2]          --\n",
       "│    │    └─Conv2d: 3-121                [32, 512, 4, 4]           524,288\n",
       "│    │    └─BatchNorm2d: 3-122           [32, 512, 4, 4]           1,024\n",
       "│    │    └─ReLU: 3-123                  [32, 512, 4, 4]           --\n",
       "│    │    └─Conv2d: 3-124                [32, 512, 2, 2]           2,359,296\n",
       "│    │    └─BatchNorm2d: 3-125           [32, 512, 2, 2]           1,024\n",
       "│    │    └─ReLU: 3-126                  [32, 512, 2, 2]           --\n",
       "│    │    └─Conv2d: 3-127                [32, 2048, 2, 2]          1,048,576\n",
       "│    │    └─BatchNorm2d: 3-128           [32, 2048, 2, 2]          4,096\n",
       "│    │    └─Sequential: 3-129            [32, 2048, 2, 2]          2,101,248\n",
       "│    │    └─ReLU: 3-130                  [32, 2048, 2, 2]          --\n",
       "│    └─Bottleneck: 2-15                  [32, 2048, 2, 2]          --\n",
       "│    │    └─Conv2d: 3-131                [32, 512, 2, 2]           1,048,576\n",
       "│    │    └─BatchNorm2d: 3-132           [32, 512, 2, 2]           1,024\n",
       "│    │    └─ReLU: 3-133                  [32, 512, 2, 2]           --\n",
       "│    │    └─Conv2d: 3-134                [32, 512, 2, 2]           2,359,296\n",
       "│    │    └─BatchNorm2d: 3-135           [32, 512, 2, 2]           1,024\n",
       "│    │    └─ReLU: 3-136                  [32, 512, 2, 2]           --\n",
       "│    │    └─Conv2d: 3-137                [32, 2048, 2, 2]          1,048,576\n",
       "│    │    └─BatchNorm2d: 3-138           [32, 2048, 2, 2]          4,096\n",
       "│    │    └─ReLU: 3-139                  [32, 2048, 2, 2]          --\n",
       "│    └─Bottleneck: 2-16                  [32, 2048, 2, 2]          --\n",
       "│    │    └─Conv2d: 3-140                [32, 512, 2, 2]           1,048,576\n",
       "│    │    └─BatchNorm2d: 3-141           [32, 512, 2, 2]           1,024\n",
       "│    │    └─ReLU: 3-142                  [32, 512, 2, 2]           --\n",
       "│    │    └─Conv2d: 3-143                [32, 512, 2, 2]           2,359,296\n",
       "│    │    └─BatchNorm2d: 3-144           [32, 512, 2, 2]           1,024\n",
       "│    │    └─ReLU: 3-145                  [32, 512, 2, 2]           --\n",
       "│    │    └─Conv2d: 3-146                [32, 2048, 2, 2]          1,048,576\n",
       "│    │    └─BatchNorm2d: 3-147           [32, 2048, 2, 2]          4,096\n",
       "│    │    └─ReLU: 3-148                  [32, 2048, 2, 2]          --\n",
       "├─AdaptiveAvgPool2d: 1-9                 [32, 2048, 1, 1]          --\n",
       "├─Linear: 1-10                           [32, 50]                  102,450\n",
       "==========================================================================================\n",
       "Total params: 23,610,482\n",
       "Trainable params: 23,610,482\n",
       "Non-trainable params: 0\n",
       "Total mult-adds (G): 10.68\n",
       "==========================================================================================\n",
       "Input size (MB): 1.57\n",
       "Forward/backward pass size (MB): 464.53\n",
       "Params size (MB): 94.44\n",
       "Estimated Total Size (MB): 560.55\n",
       "=========================================================================================="
      ]
     },
     "execution_count": 7,
     "metadata": {},
     "output_type": "execute_result"
    }
   ],
   "source": [
    "import torchinfo\n",
    "\n",
    "torchinfo.summary(model, (32, 3,64,64))"
   ]
  },
  {
   "cell_type": "code",
   "execution_count": 8,
   "id": "9ca9d25c",
   "metadata": {
    "execution": {
     "iopub.execute_input": "2024-04-17T08:20:13.613880Z",
     "iopub.status.busy": "2024-04-17T08:20:13.613611Z",
     "iopub.status.idle": "2024-04-17T08:20:32.839624Z",
     "shell.execute_reply": "2024-04-17T08:20:32.838847Z"
    },
    "papermill": {
     "duration": 19.234574,
     "end_time": "2024-04-17T08:20:32.841858",
     "exception": false,
     "start_time": "2024-04-17T08:20:13.607284",
     "status": "completed"
    },
    "tags": []
   },
   "outputs": [],
   "source": [
    "train_dir = '/kaggle/input/iith-dl-contest-2024/train/train'\n",
    "train_data  = datasets.ImageFolder(train_dir, transform = transform)\n",
    "train_loader = torch.utils.data.DataLoader(train_data, batch_size=32, shuffle=True)"
   ]
  },
  {
   "cell_type": "code",
   "execution_count": 9,
   "id": "d7b15623",
   "metadata": {
    "execution": {
     "iopub.execute_input": "2024-04-17T08:20:32.854023Z",
     "iopub.status.busy": "2024-04-17T08:20:32.853715Z",
     "iopub.status.idle": "2024-04-17T11:04:47.080704Z",
     "shell.execute_reply": "2024-04-17T11:04:47.079780Z"
    },
    "papermill": {
     "duration": 9854.235546,
     "end_time": "2024-04-17T11:04:47.082806",
     "exception": false,
     "start_time": "2024-04-17T08:20:32.847260",
     "status": "completed"
    },
    "tags": []
   },
   "outputs": [
    {
     "name": "stderr",
     "output_type": "stream",
     "text": [
      "2032it [13:08,  2.58it/s]\n"
     ]
    },
    {
     "name": "stdout",
     "output_type": "stream",
     "text": [
      "Epoch [1/20], Loss: 3.2413, Accuracy: 0.1751\n"
     ]
    },
    {
     "name": "stderr",
     "output_type": "stream",
     "text": [
      "2032it [08:02,  4.22it/s]\n"
     ]
    },
    {
     "name": "stdout",
     "output_type": "stream",
     "text": [
      "Epoch [2/20], Loss: 2.5973, Accuracy: 0.3064\n"
     ]
    },
    {
     "name": "stderr",
     "output_type": "stream",
     "text": [
      "2032it [08:02,  4.21it/s]\n"
     ]
    },
    {
     "name": "stdout",
     "output_type": "stream",
     "text": [
      "Epoch [3/20], Loss: 2.3150, Accuracy: 0.3694\n"
     ]
    },
    {
     "name": "stderr",
     "output_type": "stream",
     "text": [
      "2032it [08:13,  4.12it/s]\n"
     ]
    },
    {
     "name": "stdout",
     "output_type": "stream",
     "text": [
      "Epoch [4/20], Loss: 2.0623, Accuracy: 0.4286\n"
     ]
    },
    {
     "name": "stderr",
     "output_type": "stream",
     "text": [
      "2032it [07:59,  4.23it/s]\n"
     ]
    },
    {
     "name": "stdout",
     "output_type": "stream",
     "text": [
      "Epoch [5/20], Loss: 1.8150, Accuracy: 0.4901\n"
     ]
    },
    {
     "name": "stderr",
     "output_type": "stream",
     "text": [
      "2032it [07:55,  4.27it/s]\n"
     ]
    },
    {
     "name": "stdout",
     "output_type": "stream",
     "text": [
      "Epoch [6/20], Loss: 1.6154, Accuracy: 0.5395\n"
     ]
    },
    {
     "name": "stderr",
     "output_type": "stream",
     "text": [
      "2032it [07:57,  4.25it/s]\n"
     ]
    },
    {
     "name": "stdout",
     "output_type": "stream",
     "text": [
      "Epoch [7/20], Loss: 1.4039, Accuracy: 0.5930\n"
     ]
    },
    {
     "name": "stderr",
     "output_type": "stream",
     "text": [
      "2032it [07:51,  4.31it/s]\n"
     ]
    },
    {
     "name": "stdout",
     "output_type": "stream",
     "text": [
      "Epoch [8/20], Loss: 1.1517, Accuracy: 0.6592\n"
     ]
    },
    {
     "name": "stderr",
     "output_type": "stream",
     "text": [
      "2032it [07:54,  4.28it/s]\n"
     ]
    },
    {
     "name": "stdout",
     "output_type": "stream",
     "text": [
      "Epoch [9/20], Loss: 0.8854, Accuracy: 0.7326\n"
     ]
    },
    {
     "name": "stderr",
     "output_type": "stream",
     "text": [
      "2032it [08:00,  4.23it/s]\n"
     ]
    },
    {
     "name": "stdout",
     "output_type": "stream",
     "text": [
      "Epoch [10/20], Loss: 0.7347, Accuracy: 0.7732\n"
     ]
    },
    {
     "name": "stderr",
     "output_type": "stream",
     "text": [
      "2032it [07:57,  4.25it/s]\n"
     ]
    },
    {
     "name": "stdout",
     "output_type": "stream",
     "text": [
      "Epoch [11/20], Loss: 0.4750, Accuracy: 0.8493\n"
     ]
    },
    {
     "name": "stderr",
     "output_type": "stream",
     "text": [
      "2032it [07:56,  4.27it/s]\n"
     ]
    },
    {
     "name": "stdout",
     "output_type": "stream",
     "text": [
      "Epoch [12/20], Loss: 0.3426, Accuracy: 0.8899\n"
     ]
    },
    {
     "name": "stderr",
     "output_type": "stream",
     "text": [
      "2032it [07:50,  4.32it/s]\n"
     ]
    },
    {
     "name": "stdout",
     "output_type": "stream",
     "text": [
      "Epoch [13/20], Loss: 0.3152, Accuracy: 0.8992\n"
     ]
    },
    {
     "name": "stderr",
     "output_type": "stream",
     "text": [
      "2032it [07:49,  4.32it/s]\n"
     ]
    },
    {
     "name": "stdout",
     "output_type": "stream",
     "text": [
      "Epoch [14/20], Loss: 0.2190, Accuracy: 0.9284\n"
     ]
    },
    {
     "name": "stderr",
     "output_type": "stream",
     "text": [
      "2032it [07:50,  4.32it/s]\n"
     ]
    },
    {
     "name": "stdout",
     "output_type": "stream",
     "text": [
      "Epoch [15/20], Loss: 0.2246, Accuracy: 0.9265\n"
     ]
    },
    {
     "name": "stderr",
     "output_type": "stream",
     "text": [
      "2032it [07:56,  4.27it/s]\n"
     ]
    },
    {
     "name": "stdout",
     "output_type": "stream",
     "text": [
      "Epoch [16/20], Loss: 0.2051, Accuracy: 0.9343\n"
     ]
    },
    {
     "name": "stderr",
     "output_type": "stream",
     "text": [
      "2032it [08:04,  4.19it/s]\n"
     ]
    },
    {
     "name": "stdout",
     "output_type": "stream",
     "text": [
      "Epoch [17/20], Loss: 0.1722, Accuracy: 0.9444\n"
     ]
    },
    {
     "name": "stderr",
     "output_type": "stream",
     "text": [
      "2032it [07:53,  4.29it/s]\n"
     ]
    },
    {
     "name": "stdout",
     "output_type": "stream",
     "text": [
      "Epoch [18/20], Loss: 0.1657, Accuracy: 0.9473\n"
     ]
    },
    {
     "name": "stderr",
     "output_type": "stream",
     "text": [
      "2032it [07:56,  4.27it/s]\n"
     ]
    },
    {
     "name": "stdout",
     "output_type": "stream",
     "text": [
      "Epoch [19/20], Loss: 0.1349, Accuracy: 0.9566\n"
     ]
    },
    {
     "name": "stderr",
     "output_type": "stream",
     "text": [
      "2032it [07:51,  4.31it/s]\n"
     ]
    },
    {
     "name": "stdout",
     "output_type": "stream",
     "text": [
      "Epoch [20/20], Loss: 0.1412, Accuracy: 0.9547\n"
     ]
    }
   ],
   "source": [
    "# Defining loss criterion and optimizer\n",
    "loss_func = nn.CrossEntropyLoss()\n",
    "optimizer = optim.Adam(model.parameters(), lr=0.001)\n",
    "\n",
    "# Training loop\n",
    "epochs = 20\n",
    "for epoch in range(epochs):\n",
    "    model.train()  # Setting the model to training mode\n",
    "    running_loss = 0.0\n",
    "    correct_preds = 0\n",
    "    total_samples = 0\n",
    "    for i, (inputs, labels) in tqdm(enumerate(train_loader)):\n",
    "        inputs, labels = inputs.to(device), labels.to(device)\n",
    "        optimizer.zero_grad()  # Clearing gradients\n",
    "\n",
    "        # Forward pass\n",
    "        outputs = model(inputs)\n",
    "\n",
    "        # Computing loss\n",
    "        loss = loss_func(outputs, labels)\n",
    "\n",
    "        # Backward pass and optimization\n",
    "        loss.backward()\n",
    "        optimizer.step()\n",
    "\n",
    "        # Updating running loss\n",
    "        running_loss += loss.item() * inputs.size(0)\n",
    "\n",
    "        # Calculating accuracy\n",
    "        _, predicted = torch.max(outputs, 1)\n",
    "        correct_preds += torch.sum(predicted == labels).item()\n",
    "        total_samples += labels.size(0)\n",
    "\n",
    "    # Printing average loss and accuracy for the current epoch\n",
    "    epoch_loss = running_loss / len(train_data)\n",
    "    epoch_acc = correct_preds / total_samples\n",
    "    print(f'Epoch [{epoch+1}/{epochs}], Loss: {epoch_loss:.4f}, Accuracy: {epoch_acc:.4f}')\n",
    "    if epoch%2 + 1==2:\n",
    "        str = \"/kaggle/working/weights{}.pth\".format(epoch + 1)\n",
    "        torch.save(model.state_dict(), str)\n",
    "        \n",
    "    "
   ]
  },
  {
   "cell_type": "code",
   "execution_count": 10,
   "id": "cf02f119",
   "metadata": {
    "execution": {
     "iopub.execute_input": "2024-04-17T11:04:53.818003Z",
     "iopub.status.busy": "2024-04-17T11:04:53.817621Z",
     "iopub.status.idle": "2024-04-17T11:05:06.212319Z",
     "shell.execute_reply": "2024-04-17T11:05:06.211385Z"
    },
    "papermill": {
     "duration": 15.743229,
     "end_time": "2024-04-17T11:05:06.214778",
     "exception": false,
     "start_time": "2024-04-17T11:04:50.471549",
     "status": "completed"
    },
    "tags": []
   },
   "outputs": [],
   "source": [
    "test_dir = '/kaggle/input/iith-dl-contest-2024/test'\n",
    "test_data  = datasets.ImageFolder(test_dir, transform = transform)\n",
    "test_loader = torch.utils.data.DataLoader(test_data, batch_size=32, shuffle=False)"
   ]
  },
  {
   "cell_type": "code",
   "execution_count": 11,
   "id": "957caf0e",
   "metadata": {
    "execution": {
     "iopub.execute_input": "2024-04-17T11:05:12.845109Z",
     "iopub.status.busy": "2024-04-17T11:05:12.844058Z",
     "iopub.status.idle": "2024-04-17T11:05:12.848420Z",
     "shell.execute_reply": "2024-04-17T11:05:12.847533Z"
    },
    "papermill": {
     "duration": 3.235581,
     "end_time": "2024-04-17T11:05:12.850311",
     "exception": false,
     "start_time": "2024-04-17T11:05:09.614730",
     "status": "completed"
    },
    "tags": []
   },
   "outputs": [],
   "source": [
    "import numpy as np\n",
    "import csv"
   ]
  },
  {
   "cell_type": "code",
   "execution_count": 12,
   "id": "77d05a13",
   "metadata": {
    "execution": {
     "iopub.execute_input": "2024-04-17T11:05:19.756112Z",
     "iopub.status.busy": "2024-04-17T11:05:19.755228Z",
     "iopub.status.idle": "2024-04-17T11:05:19.761264Z",
     "shell.execute_reply": "2024-04-17T11:05:19.760448Z"
    },
    "papermill": {
     "duration": 3.448409,
     "end_time": "2024-04-17T11:05:19.763503",
     "exception": false,
     "start_time": "2024-04-17T11:05:16.315094",
     "status": "completed"
    },
    "tags": []
   },
   "outputs": [],
   "source": [
    "# Reverse the class to index mapping to index to class for prediction interpretation\n",
    "classes = train_data.class_to_idx\n",
    "idx_to_class = {idx: class_name for class_name, idx in classes.items()}"
   ]
  },
  {
   "cell_type": "code",
   "execution_count": 13,
   "id": "6ee49408",
   "metadata": {
    "execution": {
     "iopub.execute_input": "2024-04-17T11:05:26.449274Z",
     "iopub.status.busy": "2024-04-17T11:05:26.448367Z",
     "iopub.status.idle": "2024-04-17T11:09:47.021247Z",
     "shell.execute_reply": "2024-04-17T11:09:47.020334Z"
    },
    "papermill": {
     "duration": 263.910945,
     "end_time": "2024-04-17T11:09:47.023760",
     "exception": false,
     "start_time": "2024-04-17T11:05:23.112815",
     "status": "completed"
    },
    "tags": []
   },
   "outputs": [
    {
     "name": "stderr",
     "output_type": "stream",
     "text": [
      "100%|██████████| 1199/1199 [04:20<00:00,  4.60it/s]\n"
     ]
    }
   ],
   "source": [
    "# List to store outputs\n",
    "outputs_list = []\n",
    "\n",
    "# Process images and gather predictions\n",
    "for images, _ in tqdm(test_loader):\n",
    "    images = images.to(device)\n",
    "    outputs = model(images)\n",
    "    _, predicted = torch.max(outputs, dim=1)\n",
    "    outputs_list.append(predicted)\n",
    "\n",
    "# Concatenate all predictions into a single tensor\n",
    "outputs = torch.cat(outputs_list).cpu().numpy()"
   ]
  },
  {
   "cell_type": "code",
   "execution_count": 14,
   "id": "68fdb7f9",
   "metadata": {
    "execution": {
     "iopub.execute_input": "2024-04-17T11:09:54.086602Z",
     "iopub.status.busy": "2024-04-17T11:09:54.085722Z",
     "iopub.status.idle": "2024-04-17T11:09:54.128642Z",
     "shell.execute_reply": "2024-04-17T11:09:54.127818Z"
    },
    "papermill": {
     "duration": 3.482585,
     "end_time": "2024-04-17T11:09:54.130590",
     "exception": false,
     "start_time": "2024-04-17T11:09:50.648005",
     "status": "completed"
    },
    "tags": []
   },
   "outputs": [],
   "source": [
    "import numpy as np\n",
    "\n",
    "# Convert class indices to class names\n",
    "predicted_classes = np.array([idx_to_class[idx] for idx in outputs], dtype=object)\n",
    "\n",
    "# Generate image file names\n",
    "file_names = [f\"{i}.JPEG\" for i in range(len(predicted_classes))]\n",
    "\n",
    "file_names = np.sort(file_names)"
   ]
  },
  {
   "cell_type": "code",
   "execution_count": 15,
   "id": "4d1cbf6c",
   "metadata": {
    "execution": {
     "iopub.execute_input": "2024-04-17T11:10:01.127313Z",
     "iopub.status.busy": "2024-04-17T11:10:01.126434Z",
     "iopub.status.idle": "2024-04-17T11:10:01.135144Z",
     "shell.execute_reply": "2024-04-17T11:10:01.134118Z"
    },
    "papermill": {
     "duration": 3.548233,
     "end_time": "2024-04-17T11:10:01.137237",
     "exception": false,
     "start_time": "2024-04-17T11:09:57.589004",
     "status": "completed"
    },
    "tags": []
   },
   "outputs": [
    {
     "name": "stdout",
     "output_type": "stream",
     "text": [
      "[['0.JPEG' 'n02808440']\n",
      " ['1.JPEG' 'n02480495']\n",
      " ['10.JPEG' 'n01784675']\n",
      " ...\n",
      " ['9997.JPEG' 'n02486410']\n",
      " ['9998.JPEG' 'n02906734']\n",
      " ['9999.JPEG' 'n02056570']]\n"
     ]
    }
   ],
   "source": [
    "# Combine file names and predicted classes\n",
    "table = np.column_stack((file_names, predicted_classes))\n",
    "\n",
    "# Print table (optional, can be commented out in production)\n",
    "print(table)"
   ]
  },
  {
   "cell_type": "code",
   "execution_count": 16,
   "id": "ada11f1b",
   "metadata": {
    "execution": {
     "iopub.execute_input": "2024-04-17T11:10:08.108068Z",
     "iopub.status.busy": "2024-04-17T11:10:08.107671Z",
     "iopub.status.idle": "2024-04-17T11:10:08.193424Z",
     "shell.execute_reply": "2024-04-17T11:10:08.192454Z"
    },
    "papermill": {
     "duration": 3.535796,
     "end_time": "2024-04-17T11:10:08.195553",
     "exception": false,
     "start_time": "2024-04-17T11:10:04.659757",
     "status": "completed"
    },
    "tags": []
   },
   "outputs": [],
   "source": [
    "# Write results to CSV file\n",
    "with open('submission1.csv', 'w', newline='') as file:\n",
    "    wr = csv.writer(file)\n",
    "    wr.writerow(['ID', 'Category'])\n",
    "    wr.writerows(table)"
   ]
  }
 ],
 "metadata": {
  "kaggle": {
   "accelerator": "nvidiaTeslaT4",
   "dataSources": [
    {
     "databundleVersionId": 8040143,
     "sourceId": 73111,
     "sourceType": "competition"
    }
   ],
   "dockerImageVersionId": 30683,
   "isGpuEnabled": true,
   "isInternetEnabled": true,
   "language": "python",
   "sourceType": "notebook"
  },
  "kernelspec": {
   "display_name": "Python 3",
   "language": "python",
   "name": "python3"
  },
  "language_info": {
   "codemirror_mode": {
    "name": "ipython",
    "version": 3
   },
   "file_extension": ".py",
   "mimetype": "text/x-python",
   "name": "python",
   "nbconvert_exporter": "python",
   "pygments_lexer": "ipython3",
   "version": "3.10.13"
  },
  "papermill": {
   "default_parameters": {},
   "duration": 10211.525979,
   "end_time": "2024-04-17T11:10:13.427824",
   "environment_variables": {},
   "exception": null,
   "input_path": "__notebook__.ipynb",
   "output_path": "__notebook__.ipynb",
   "parameters": {},
   "start_time": "2024-04-17T08:20:01.901845",
   "version": "2.5.0"
  }
 },
 "nbformat": 4,
 "nbformat_minor": 5
}
