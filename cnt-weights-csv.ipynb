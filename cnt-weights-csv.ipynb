{
 "cells": [
  {
   "cell_type": "code",
   "execution_count": 1,
   "id": "a6bff790",
   "metadata": {
    "execution": {
     "iopub.execute_input": "2024-04-27T05:54:55.074497Z",
     "iopub.status.busy": "2024-04-27T05:54:55.074057Z",
     "iopub.status.idle": "2024-04-27T05:55:01.740405Z",
     "shell.execute_reply": "2024-04-27T05:55:01.739586Z"
    },
    "papermill": {
     "duration": 6.67573,
     "end_time": "2024-04-27T05:55:01.743024",
     "exception": false,
     "start_time": "2024-04-27T05:54:55.067294",
     "status": "completed"
    },
    "tags": []
   },
   "outputs": [],
   "source": [
    "import torch\n",
    "import torch.nn as nn\n",
    "import torchvision\n",
    "from torchvision import datasets, transforms, models\n",
    "# import torchvision.models as models\n",
    "import torch.nn.functional as F\n",
    "import torch.optim as optim\n",
    "from tqdm import tqdm\n",
    "import numpy as np\n",
    "import csv"
   ]
  },
  {
   "cell_type": "code",
   "execution_count": 2,
   "id": "539587cc",
   "metadata": {
    "execution": {
     "iopub.execute_input": "2024-04-27T05:55:01.753627Z",
     "iopub.status.busy": "2024-04-27T05:55:01.752990Z",
     "iopub.status.idle": "2024-04-27T05:55:01.830799Z",
     "shell.execute_reply": "2024-04-27T05:55:01.829689Z"
    },
    "papermill": {
     "duration": 0.085354,
     "end_time": "2024-04-27T05:55:01.833129",
     "exception": false,
     "start_time": "2024-04-27T05:55:01.747775",
     "status": "completed"
    },
    "tags": []
   },
   "outputs": [],
   "source": [
    "device = torch.device('cuda' if torch.cuda.is_available() else 'cpu')"
   ]
  },
  {
   "cell_type": "code",
   "execution_count": 3,
   "id": "97960367",
   "metadata": {
    "execution": {
     "iopub.execute_input": "2024-04-27T05:55:01.843215Z",
     "iopub.status.busy": "2024-04-27T05:55:01.842904Z",
     "iopub.status.idle": "2024-04-27T05:55:01.848069Z",
     "shell.execute_reply": "2024-04-27T05:55:01.847145Z"
    },
    "papermill": {
     "duration": 0.01224,
     "end_time": "2024-04-27T05:55:01.850070",
     "exception": false,
     "start_time": "2024-04-27T05:55:01.837830",
     "status": "completed"
    },
    "tags": []
   },
   "outputs": [],
   "source": [
    "transform = transforms.Compose([\n",
    "    transforms.Resize((224, 224)),  \n",
    "    transforms.ToTensor(),  \n",
    "    transforms.Normalize(mean=[0.5, 0.5, 0.5], std=[0.5, 0.5, 0.5])  \n",
    "])"
   ]
  },
  {
   "cell_type": "code",
   "execution_count": 4,
   "id": "b1895270",
   "metadata": {
    "execution": {
     "iopub.execute_input": "2024-04-27T05:55:01.859669Z",
     "iopub.status.busy": "2024-04-27T05:55:01.859325Z",
     "iopub.status.idle": "2024-04-27T05:55:02.786235Z",
     "shell.execute_reply": "2024-04-27T05:55:02.785164Z"
    },
    "papermill": {
     "duration": 0.934337,
     "end_time": "2024-04-27T05:55:02.788669",
     "exception": false,
     "start_time": "2024-04-27T05:55:01.854332",
     "status": "completed"
    },
    "tags": []
   },
   "outputs": [],
   "source": [
    "\n",
    "model = models.convnext_tiny(weights= None).to(device)"
   ]
  },
  {
   "cell_type": "code",
   "execution_count": 5,
   "id": "c4bcaa09",
   "metadata": {
    "execution": {
     "iopub.execute_input": "2024-04-27T05:55:02.798720Z",
     "iopub.status.busy": "2024-04-27T05:55:02.798384Z",
     "iopub.status.idle": "2024-04-27T05:55:02.802686Z",
     "shell.execute_reply": "2024-04-27T05:55:02.801737Z"
    },
    "papermill": {
     "duration": 0.011612,
     "end_time": "2024-04-27T05:55:02.804871",
     "exception": false,
     "start_time": "2024-04-27T05:55:02.793259",
     "status": "completed"
    },
    "tags": []
   },
   "outputs": [],
   "source": [
    "# print(model)"
   ]
  },
  {
   "cell_type": "code",
   "execution_count": 6,
   "id": "6186b468",
   "metadata": {
    "execution": {
     "iopub.execute_input": "2024-04-27T05:55:02.814784Z",
     "iopub.status.busy": "2024-04-27T05:55:02.814483Z",
     "iopub.status.idle": "2024-04-27T05:55:02.819176Z",
     "shell.execute_reply": "2024-04-27T05:55:02.818312Z"
    },
    "papermill": {
     "duration": 0.012094,
     "end_time": "2024-04-27T05:55:02.821160",
     "exception": false,
     "start_time": "2024-04-27T05:55:02.809066",
     "status": "completed"
    },
    "tags": []
   },
   "outputs": [],
   "source": [
    "model.classifier[2] = nn.Linear(768,50)"
   ]
  },
  {
   "cell_type": "code",
   "execution_count": 7,
   "id": "a428fc69",
   "metadata": {
    "execution": {
     "iopub.execute_input": "2024-04-27T05:55:02.830499Z",
     "iopub.status.busy": "2024-04-27T05:55:02.830214Z",
     "iopub.status.idle": "2024-04-27T05:55:03.482327Z",
     "shell.execute_reply": "2024-04-27T05:55:03.481281Z"
    },
    "papermill": {
     "duration": 0.659561,
     "end_time": "2024-04-27T05:55:03.484748",
     "exception": false,
     "start_time": "2024-04-27T05:55:02.825187",
     "status": "completed"
    },
    "tags": []
   },
   "outputs": [
    {
     "data": {
      "text/plain": [
       "===============================================================================================\n",
       "Layer (type:depth-idx)                        Output Shape              Param #\n",
       "===============================================================================================\n",
       "ConvNeXt                                      [32, 50]                  --\n",
       "├─Sequential: 1-1                             [32, 768, 2, 2]           --\n",
       "│    └─Conv2dNormActivation: 2-1              [32, 96, 16, 16]          --\n",
       "│    │    └─Conv2d: 3-1                       [32, 96, 16, 16]          4,704\n",
       "│    │    └─LayerNorm2d: 3-2                  [32, 96, 16, 16]          192\n",
       "│    └─Sequential: 2-2                        [32, 96, 16, 16]          --\n",
       "│    │    └─CNBlock: 3-3                      [32, 96, 16, 16]          79,296\n",
       "│    │    └─CNBlock: 3-4                      [32, 96, 16, 16]          79,296\n",
       "│    │    └─CNBlock: 3-5                      [32, 96, 16, 16]          79,296\n",
       "│    └─Sequential: 2-3                        [32, 192, 8, 8]           --\n",
       "│    │    └─LayerNorm2d: 3-6                  [32, 96, 16, 16]          192\n",
       "│    │    └─Conv2d: 3-7                       [32, 192, 8, 8]           73,920\n",
       "│    └─Sequential: 2-4                        [32, 192, 8, 8]           --\n",
       "│    │    └─CNBlock: 3-8                      [32, 192, 8, 8]           306,048\n",
       "│    │    └─CNBlock: 3-9                      [32, 192, 8, 8]           306,048\n",
       "│    │    └─CNBlock: 3-10                     [32, 192, 8, 8]           306,048\n",
       "│    └─Sequential: 2-5                        [32, 384, 4, 4]           --\n",
       "│    │    └─LayerNorm2d: 3-11                 [32, 192, 8, 8]           384\n",
       "│    │    └─Conv2d: 3-12                      [32, 384, 4, 4]           295,296\n",
       "│    └─Sequential: 2-6                        [32, 384, 4, 4]           --\n",
       "│    │    └─CNBlock: 3-13                     [32, 384, 4, 4]           1,201,920\n",
       "│    │    └─CNBlock: 3-14                     [32, 384, 4, 4]           1,201,920\n",
       "│    │    └─CNBlock: 3-15                     [32, 384, 4, 4]           1,201,920\n",
       "│    │    └─CNBlock: 3-16                     [32, 384, 4, 4]           1,201,920\n",
       "│    │    └─CNBlock: 3-17                     [32, 384, 4, 4]           1,201,920\n",
       "│    │    └─CNBlock: 3-18                     [32, 384, 4, 4]           1,201,920\n",
       "│    │    └─CNBlock: 3-19                     [32, 384, 4, 4]           1,201,920\n",
       "│    │    └─CNBlock: 3-20                     [32, 384, 4, 4]           1,201,920\n",
       "│    │    └─CNBlock: 3-21                     [32, 384, 4, 4]           1,201,920\n",
       "│    └─Sequential: 2-7                        [32, 768, 2, 2]           --\n",
       "│    │    └─LayerNorm2d: 3-22                 [32, 384, 4, 4]           768\n",
       "│    │    └─Conv2d: 3-23                      [32, 768, 2, 2]           1,180,416\n",
       "│    └─Sequential: 2-8                        [32, 768, 2, 2]           --\n",
       "│    │    └─CNBlock: 3-24                     [32, 768, 2, 2]           4,763,136\n",
       "│    │    └─CNBlock: 3-25                     [32, 768, 2, 2]           4,763,136\n",
       "│    │    └─CNBlock: 3-26                     [32, 768, 2, 2]           4,763,136\n",
       "├─AdaptiveAvgPool2d: 1-2                      [32, 768, 1, 1]           --\n",
       "├─Sequential: 1-3                             [32, 50]                  --\n",
       "│    └─LayerNorm2d: 2-9                       [32, 768, 1, 1]           1,536\n",
       "│    └─Flatten: 2-10                          [32, 768]                 --\n",
       "│    └─Linear: 2-11                           [32, 50]                  38,450\n",
       "===============================================================================================\n",
       "Total params: 27,858,578\n",
       "Trainable params: 27,858,578\n",
       "Non-trainable params: 0\n",
       "Total mult-adds (G): 1.60\n",
       "===============================================================================================\n",
       "Input size (MB): 1.57\n",
       "Forward/backward pass size (MB): 343.09\n",
       "Params size (MB): 111.41\n",
       "Estimated Total Size (MB): 456.07\n",
       "==============================================================================================="
      ]
     },
     "execution_count": 7,
     "metadata": {},
     "output_type": "execute_result"
    }
   ],
   "source": [
    "import torchinfo\n",
    "\n",
    "torchinfo.summary(model, (32, 3,64,64))"
   ]
  },
  {
   "cell_type": "code",
   "execution_count": 8,
   "id": "12ec0063",
   "metadata": {
    "execution": {
     "iopub.execute_input": "2024-04-27T05:55:03.495944Z",
     "iopub.status.busy": "2024-04-27T05:55:03.495640Z",
     "iopub.status.idle": "2024-04-27T05:55:26.506890Z",
     "shell.execute_reply": "2024-04-27T05:55:26.505902Z"
    },
    "papermill": {
     "duration": 23.020272,
     "end_time": "2024-04-27T05:55:26.509490",
     "exception": false,
     "start_time": "2024-04-27T05:55:03.489218",
     "status": "completed"
    },
    "tags": []
   },
   "outputs": [],
   "source": [
    "train_dir = '/kaggle/input/iith-dl-contest-2024/train/train'\n",
    "train_data  = datasets.ImageFolder(train_dir, transform = transform)\n",
    "train_loader = torch.utils.data.DataLoader(train_data, batch_size=32, shuffle=True)"
   ]
  },
  {
   "cell_type": "code",
   "execution_count": 9,
   "id": "20a1d7c6",
   "metadata": {
    "execution": {
     "iopub.execute_input": "2024-04-27T05:55:26.520569Z",
     "iopub.status.busy": "2024-04-27T05:55:26.520199Z",
     "iopub.status.idle": "2024-04-27T05:55:45.137132Z",
     "shell.execute_reply": "2024-04-27T05:55:45.136182Z"
    },
    "papermill": {
     "duration": 18.625263,
     "end_time": "2024-04-27T05:55:45.139691",
     "exception": false,
     "start_time": "2024-04-27T05:55:26.514428",
     "status": "completed"
    },
    "tags": []
   },
   "outputs": [],
   "source": [
    "test_dir = '/kaggle/input/iith-dl-contest-2024/test'\n",
    "test_data  = datasets.ImageFolder(test_dir, transform = transform)\n",
    "test_loader = torch.utils.data.DataLoader(test_data, batch_size= 64, shuffle=False)"
   ]
  },
  {
   "cell_type": "code",
   "execution_count": 10,
   "id": "f0eed08c",
   "metadata": {
    "execution": {
     "iopub.execute_input": "2024-04-27T05:55:45.150945Z",
     "iopub.status.busy": "2024-04-27T05:55:45.150313Z",
     "iopub.status.idle": "2024-04-27T05:55:45.155351Z",
     "shell.execute_reply": "2024-04-27T05:55:45.154371Z"
    },
    "papermill": {
     "duration": 0.012699,
     "end_time": "2024-04-27T05:55:45.157377",
     "exception": false,
     "start_time": "2024-04-27T05:55:45.144678",
     "status": "completed"
    },
    "tags": []
   },
   "outputs": [],
   "source": [
    "# Reverse the class to index mapping to index to class for prediction interpretation\n",
    "classes = train_data.class_to_idx\n",
    "idx_to_class = {idx: class_name for class_name, idx in classes.items()}"
   ]
  },
  {
   "cell_type": "code",
   "execution_count": 11,
   "id": "aa662d13",
   "metadata": {
    "execution": {
     "iopub.execute_input": "2024-04-27T05:55:45.167671Z",
     "iopub.status.busy": "2024-04-27T05:55:45.167372Z",
     "iopub.status.idle": "2024-04-27T05:55:45.200337Z",
     "shell.execute_reply": "2024-04-27T05:55:45.199464Z"
    },
    "papermill": {
     "duration": 0.040442,
     "end_time": "2024-04-27T05:55:45.202384",
     "exception": false,
     "start_time": "2024-04-27T05:55:45.161942",
     "status": "completed"
    },
    "tags": []
   },
   "outputs": [],
   "source": [
    "# Convert class indices to class names\n",
    "\n",
    "\n",
    "# Generate image file names\n",
    "file_names = [f\"{i}.JPEG\" for i in range(len(test_data))]\n",
    "\n",
    "file_names = np.sort(file_names)"
   ]
  },
  {
   "cell_type": "code",
   "execution_count": 12,
   "id": "cc7f0933",
   "metadata": {
    "execution": {
     "iopub.execute_input": "2024-04-27T05:55:45.213133Z",
     "iopub.status.busy": "2024-04-27T05:55:45.212841Z",
     "iopub.status.idle": "2024-04-27T14:45:10.620908Z",
     "shell.execute_reply": "2024-04-27T14:45:10.620003Z"
    },
    "papermill": {
     "duration": 31765.416174,
     "end_time": "2024-04-27T14:45:10.623305",
     "exception": false,
     "start_time": "2024-04-27T05:55:45.207131",
     "status": "completed"
    },
    "tags": []
   },
   "outputs": [
    {
     "name": "stderr",
     "output_type": "stream",
     "text": [
      "2032it [28:26,  1.19it/s]\n"
     ]
    },
    {
     "name": "stdout",
     "output_type": "stream",
     "text": [
      "Epoch [1/20], Loss: 3.3052, Accuracy: 0.1528\n"
     ]
    },
    {
     "name": "stderr",
     "output_type": "stream",
     "text": [
      "2032it [24:12,  1.40it/s]\n"
     ]
    },
    {
     "name": "stdout",
     "output_type": "stream",
     "text": [
      "Epoch [2/20], Loss: 2.7285, Accuracy: 0.2767\n"
     ]
    },
    {
     "name": "stderr",
     "output_type": "stream",
     "text": [
      "2032it [24:14,  1.40it/s]\n"
     ]
    },
    {
     "name": "stdout",
     "output_type": "stream",
     "text": [
      "Epoch [3/20], Loss: 2.3453, Accuracy: 0.3653\n"
     ]
    },
    {
     "name": "stderr",
     "output_type": "stream",
     "text": [
      "2032it [24:25,  1.39it/s]\n"
     ]
    },
    {
     "name": "stdout",
     "output_type": "stream",
     "text": [
      "Epoch [4/20], Loss: 2.0909, Accuracy: 0.4235\n"
     ]
    },
    {
     "name": "stderr",
     "output_type": "stream",
     "text": [
      "2032it [24:26,  1.39it/s]\n"
     ]
    },
    {
     "name": "stdout",
     "output_type": "stream",
     "text": [
      "Epoch [5/20], Loss: 1.8782, Accuracy: 0.4786\n"
     ]
    },
    {
     "name": "stderr",
     "output_type": "stream",
     "text": [
      "2032it [24:38,  1.37it/s]\n"
     ]
    },
    {
     "name": "stdout",
     "output_type": "stream",
     "text": [
      "Epoch [6/20], Loss: 1.6631, Accuracy: 0.5303\n"
     ]
    },
    {
     "name": "stderr",
     "output_type": "stream",
     "text": [
      "2032it [24:34,  1.38it/s]\n"
     ]
    },
    {
     "name": "stdout",
     "output_type": "stream",
     "text": [
      "Epoch [7/20], Loss: 1.4695, Accuracy: 0.5785\n"
     ]
    },
    {
     "name": "stderr",
     "output_type": "stream",
     "text": [
      "2032it [25:11,  1.34it/s]\n"
     ]
    },
    {
     "name": "stdout",
     "output_type": "stream",
     "text": [
      "Epoch [8/20], Loss: 1.2869, Accuracy: 0.6264\n"
     ]
    },
    {
     "name": "stderr",
     "output_type": "stream",
     "text": [
      "2032it [24:16,  1.39it/s]\n"
     ]
    },
    {
     "name": "stdout",
     "output_type": "stream",
     "text": [
      "Epoch [9/20], Loss: 1.1174, Accuracy: 0.6711\n"
     ]
    },
    {
     "name": "stderr",
     "output_type": "stream",
     "text": [
      "100%|██████████| 600/600 [04:27<00:00,  2.24it/s]\n",
      "2032it [24:57,  1.36it/s]\n"
     ]
    },
    {
     "name": "stdout",
     "output_type": "stream",
     "text": [
      "Epoch [10/20], Loss: 0.9417, Accuracy: 0.7171\n"
     ]
    },
    {
     "name": "stderr",
     "output_type": "stream",
     "text": [
      "100%|██████████| 600/600 [03:15<00:00,  3.07it/s]\n",
      "2032it [24:07,  1.40it/s]\n"
     ]
    },
    {
     "name": "stdout",
     "output_type": "stream",
     "text": [
      "Epoch [11/20], Loss: 0.7629, Accuracy: 0.7676\n"
     ]
    },
    {
     "name": "stderr",
     "output_type": "stream",
     "text": [
      "100%|██████████| 600/600 [02:57<00:00,  3.39it/s]\n",
      "2032it [23:58,  1.41it/s]\n"
     ]
    },
    {
     "name": "stdout",
     "output_type": "stream",
     "text": [
      "Epoch [12/20], Loss: 0.5926, Accuracy: 0.8154\n"
     ]
    },
    {
     "name": "stderr",
     "output_type": "stream",
     "text": [
      "100%|██████████| 600/600 [04:09<00:00,  2.40it/s]\n",
      "2032it [25:32,  1.33it/s]\n"
     ]
    },
    {
     "name": "stdout",
     "output_type": "stream",
     "text": [
      "Epoch [13/20], Loss: 0.4517, Accuracy: 0.8566\n"
     ]
    },
    {
     "name": "stderr",
     "output_type": "stream",
     "text": [
      "100%|██████████| 600/600 [03:05<00:00,  3.23it/s]\n",
      "2032it [23:53,  1.42it/s]\n"
     ]
    },
    {
     "name": "stdout",
     "output_type": "stream",
     "text": [
      "Epoch [14/20], Loss: 0.3522, Accuracy: 0.8876\n"
     ]
    },
    {
     "name": "stderr",
     "output_type": "stream",
     "text": [
      "100%|██████████| 600/600 [03:02<00:00,  3.28it/s]\n",
      "2032it [23:37,  1.43it/s]\n"
     ]
    },
    {
     "name": "stdout",
     "output_type": "stream",
     "text": [
      "Epoch [15/20], Loss: 0.2853, Accuracy: 0.9072\n"
     ]
    },
    {
     "name": "stderr",
     "output_type": "stream",
     "text": [
      "100%|██████████| 600/600 [03:10<00:00,  3.16it/s]\n",
      "2032it [23:36,  1.43it/s]\n"
     ]
    },
    {
     "name": "stdout",
     "output_type": "stream",
     "text": [
      "Epoch [16/20], Loss: 0.2492, Accuracy: 0.9203\n"
     ]
    },
    {
     "name": "stderr",
     "output_type": "stream",
     "text": [
      "100%|██████████| 600/600 [02:59<00:00,  3.35it/s]\n",
      "2032it [23:50,  1.42it/s]\n"
     ]
    },
    {
     "name": "stdout",
     "output_type": "stream",
     "text": [
      "Epoch [17/20], Loss: 0.2207, Accuracy: 0.9297\n"
     ]
    },
    {
     "name": "stderr",
     "output_type": "stream",
     "text": [
      "100%|██████████| 600/600 [03:01<00:00,  3.30it/s]\n",
      "2032it [23:42,  1.43it/s]\n"
     ]
    },
    {
     "name": "stdout",
     "output_type": "stream",
     "text": [
      "Epoch [18/20], Loss: 0.1941, Accuracy: 0.9373\n"
     ]
    },
    {
     "name": "stderr",
     "output_type": "stream",
     "text": [
      "100%|██████████| 600/600 [02:59<00:00,  3.35it/s]\n",
      "2032it [23:37,  1.43it/s]\n"
     ]
    },
    {
     "name": "stdout",
     "output_type": "stream",
     "text": [
      "Epoch [19/20], Loss: 0.1823, Accuracy: 0.9411\n"
     ]
    },
    {
     "name": "stderr",
     "output_type": "stream",
     "text": [
      "100%|██████████| 600/600 [02:58<00:00,  3.36it/s]\n",
      "2032it [23:52,  1.42it/s]\n"
     ]
    },
    {
     "name": "stdout",
     "output_type": "stream",
     "text": [
      "Epoch [20/20], Loss: 0.1674, Accuracy: 0.9478\n"
     ]
    },
    {
     "name": "stderr",
     "output_type": "stream",
     "text": [
      "100%|██████████| 600/600 [03:58<00:00,  2.52it/s]\n"
     ]
    }
   ],
   "source": [
    "# Defining loss criterion and optimizer\n",
    "loss_func = nn.CrossEntropyLoss()\n",
    "optimizer = optim.Adam(model.parameters(), lr=0.001)\n",
    "\n",
    "# Training loop\n",
    "epochs = 20\n",
    "for epoch in range(epochs):\n",
    "    model.train()  # Setting the model to training mode\n",
    "    running_loss = 0.0\n",
    "    correct_preds = 0\n",
    "    total_samples = 0\n",
    "    for i, (inputs, labels) in tqdm(enumerate(train_loader)):\n",
    "        inputs, labels = inputs.to(device), labels.to(device)\n",
    "        optimizer.zero_grad()  # Clearing gradients\n",
    "\n",
    "        # Forward pass\n",
    "        outputs = model(inputs)\n",
    "\n",
    "        # Computing loss\n",
    "        loss = loss_func(outputs, labels)\n",
    "\n",
    "        # Backward pass and optimization\n",
    "        loss.backward()\n",
    "        optimizer.step()\n",
    "\n",
    "        # Updating running loss\n",
    "        running_loss += loss.item() * inputs.size(0)\n",
    "\n",
    "        # Calculating accuracy\n",
    "        _, predicted = torch.max(outputs, 1)\n",
    "        correct_preds += torch.sum(predicted == labels).item()\n",
    "        total_samples += labels.size(0)\n",
    "\n",
    "    # Printing average loss and accuracy for the current epoch\n",
    "    epoch_loss = running_loss / len(train_data)\n",
    "    epoch_acc = correct_preds / total_samples\n",
    "    print(f'Epoch [{epoch+1}/{epochs}], Loss: {epoch_loss:.4f}, Accuracy: {epoch_acc:.4f}')\n",
    "    if epoch + 1 > 8:\n",
    "        \n",
    "        outputs_list = []\n",
    "\n",
    "        # Process images and gather predictions\n",
    "        for images, _ in tqdm(test_loader):\n",
    "            images = images.to(device)\n",
    "            outputs = model(images)\n",
    "            _, predicted = torch.max(outputs, dim=1)\n",
    "            outputs_list.append(predicted)\n",
    "\n",
    "        # Concatenate all predictions into a single tensor\n",
    "        outputs = torch.cat(outputs_list).cpu().numpy()\n",
    "        predicted_classes = np.array([idx_to_class[idx] for idx in outputs], dtype=object)\n",
    "        # Combine file names and predicted classes\n",
    "        table = np.column_stack((file_names, predicted_classes))\n",
    "\n",
    "        # Write results to CSV file\n",
    "        str = \"submission{}.csv\".format(epoch + 1)\n",
    "        with open(str, 'w', newline='') as file:\n",
    "            wr = csv.writer(file)\n",
    "            wr.writerow(['ID', 'Category'])\n",
    "            wr.writerows(table)\n",
    "        str = \"/kaggle/working/weights{}.pth\".format(epoch + 1)\n",
    "        torch.save(model.state_dict(), str)\n",
    "        \n",
    "        \n",
    "    "
   ]
  }
 ],
 "metadata": {
  "kaggle": {
   "accelerator": "nvidiaTeslaT4",
   "dataSources": [
    {
     "databundleVersionId": 8040143,
     "sourceId": 73111,
     "sourceType": "competition"
    }
   ],
   "dockerImageVersionId": 30699,
   "isGpuEnabled": true,
   "isInternetEnabled": true,
   "language": "python",
   "sourceType": "notebook"
  },
  "kernelspec": {
   "display_name": "Python 3",
   "language": "python",
   "name": "python3"
  },
  "language_info": {
   "codemirror_mode": {
    "name": "ipython",
    "version": 3
   },
   "file_extension": ".py",
   "mimetype": "text/x-python",
   "name": "python",
   "nbconvert_exporter": "python",
   "pygments_lexer": "ipython3",
   "version": "3.10.13"
  },
  "papermill": {
   "default_parameters": {},
   "duration": 31825.019851,
   "end_time": "2024-04-27T14:45:17.002356",
   "environment_variables": {},
   "exception": null,
   "input_path": "__notebook__.ipynb",
   "output_path": "__notebook__.ipynb",
   "parameters": {},
   "start_time": "2024-04-27T05:54:51.982505",
   "version": "2.5.0"
  }
 },
 "nbformat": 4,
 "nbformat_minor": 5
}
